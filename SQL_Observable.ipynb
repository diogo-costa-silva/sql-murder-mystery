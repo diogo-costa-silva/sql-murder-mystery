{
  "nbformat": 4,
  "nbformat_minor": 0,
  "metadata": {
    "colab": {
      "provenance": [],
      "authorship_tag": "ABX9TyPKnDJsX6iYesBmK9LtRUe6",
      "include_colab_link": true
    },
    "kernelspec": {
      "name": "python3",
      "display_name": "Python 3"
    },
    "language_info": {
      "name": "python"
    }
  },
  "cells": [
    {
      "cell_type": "markdown",
      "metadata": {
        "id": "view-in-github",
        "colab_type": "text"
      },
      "source": [
        "<a href=\"https://colab.research.google.com/github/diogo-costa-silva/sql-murder-mystery/blob/main/SQL_Observable.ipynb\" target=\"_parent\"><img src=\"https://colab.research.google.com/assets/colab-badge.svg\" alt=\"Open In Colab\"/></a>"
      ]
    },
    {
      "cell_type": "markdown",
      "source": [
        "This notebook is from [here](https://observablehq.com/@observablehq/sql-mystery-game-sql-tutorial)."
      ],
      "metadata": {
        "id": "SJGP-tSU1vfJ"
      }
    },
    {
      "cell_type": "code",
      "execution_count": 2,
      "metadata": {
        "colab": {
          "base_uri": "https://localhost:8080/"
        },
        "id": "GeNSOmHHstW3",
        "outputId": "6843ba47-f604-4efb-ae7e-eebd88fb5e49"
      },
      "outputs": [
        {
          "output_type": "stream",
          "name": "stdout",
          "text": [
            "--2024-02-21 12:49:06--  https://github.com/diogo-costa-silva/assets/raw/main/databases/sql-murder-mystery.db\n",
            "Resolving github.com (github.com)... 140.82.113.3\n",
            "Connecting to github.com (github.com)|140.82.113.3|:443... connected.\n",
            "HTTP request sent, awaiting response... 302 Found\n",
            "Location: https://raw.githubusercontent.com/diogo-costa-silva/assets/main/databases/sql-murder-mystery.db [following]\n",
            "--2024-02-21 12:49:07--  https://raw.githubusercontent.com/diogo-costa-silva/assets/main/databases/sql-murder-mystery.db\n",
            "Resolving raw.githubusercontent.com (raw.githubusercontent.com)... 185.199.111.133, 185.199.110.133, 185.199.108.133, ...\n",
            "Connecting to raw.githubusercontent.com (raw.githubusercontent.com)|185.199.111.133|:443... connected.\n",
            "HTTP request sent, awaiting response... 200 OK\n",
            "Length: 3661824 (3.5M) [application/octet-stream]\n",
            "Saving to: ‘sql-murder-mystery.db’\n",
            "\n",
            "sql-murder-mystery. 100%[===================>]   3.49M  --.-KB/s    in 0.07s   \n",
            "\n",
            "2024-02-21 12:49:07 (50.5 MB/s) - ‘sql-murder-mystery.db’ saved [3661824/3661824]\n",
            "\n"
          ]
        }
      ],
      "source": [
        "# getting the database from my github\n",
        "!wget https://github.com/diogo-costa-silva/assets/raw/main/databases/sql-murder-mystery.db -O sql-murder-mystery.db"
      ]
    },
    {
      "cell_type": "code",
      "source": [
        "# Install ipython-sql\n",
        "!pip install ipython-sql"
      ],
      "metadata": {
        "colab": {
          "base_uri": "https://localhost:8080/"
        },
        "id": "183RHuSrtE_I",
        "outputId": "a234c6bd-4c69-467d-c48a-bcf71332196f"
      },
      "execution_count": 3,
      "outputs": [
        {
          "output_type": "stream",
          "name": "stdout",
          "text": [
            "Requirement already satisfied: ipython-sql in /usr/local/lib/python3.10/dist-packages (0.5.0)\n",
            "Requirement already satisfied: prettytable in /usr/local/lib/python3.10/dist-packages (from ipython-sql) (3.9.0)\n",
            "Requirement already satisfied: ipython in /usr/local/lib/python3.10/dist-packages (from ipython-sql) (7.34.0)\n",
            "Requirement already satisfied: sqlalchemy>=2.0 in /usr/local/lib/python3.10/dist-packages (from ipython-sql) (2.0.27)\n",
            "Requirement already satisfied: sqlparse in /usr/local/lib/python3.10/dist-packages (from ipython-sql) (0.4.4)\n",
            "Requirement already satisfied: six in /usr/local/lib/python3.10/dist-packages (from ipython-sql) (1.16.0)\n",
            "Requirement already satisfied: ipython-genutils in /usr/local/lib/python3.10/dist-packages (from ipython-sql) (0.2.0)\n",
            "Requirement already satisfied: typing-extensions>=4.6.0 in /usr/local/lib/python3.10/dist-packages (from sqlalchemy>=2.0->ipython-sql) (4.9.0)\n",
            "Requirement already satisfied: greenlet!=0.4.17 in /usr/local/lib/python3.10/dist-packages (from sqlalchemy>=2.0->ipython-sql) (3.0.3)\n",
            "Requirement already satisfied: setuptools>=18.5 in /usr/local/lib/python3.10/dist-packages (from ipython->ipython-sql) (67.7.2)\n",
            "Collecting jedi>=0.16 (from ipython->ipython-sql)\n",
            "  Downloading jedi-0.19.1-py2.py3-none-any.whl (1.6 MB)\n",
            "\u001b[2K     \u001b[90m━━━━━━━━━━━━━━━━━━━━━━━━━━━━━━━━━━━━━━━━\u001b[0m \u001b[32m1.6/1.6 MB\u001b[0m \u001b[31m10.8 MB/s\u001b[0m eta \u001b[36m0:00:00\u001b[0m\n",
            "\u001b[?25hRequirement already satisfied: decorator in /usr/local/lib/python3.10/dist-packages (from ipython->ipython-sql) (4.4.2)\n",
            "Requirement already satisfied: pickleshare in /usr/local/lib/python3.10/dist-packages (from ipython->ipython-sql) (0.7.5)\n",
            "Requirement already satisfied: traitlets>=4.2 in /usr/local/lib/python3.10/dist-packages (from ipython->ipython-sql) (5.7.1)\n",
            "Requirement already satisfied: prompt-toolkit!=3.0.0,!=3.0.1,<3.1.0,>=2.0.0 in /usr/local/lib/python3.10/dist-packages (from ipython->ipython-sql) (3.0.43)\n",
            "Requirement already satisfied: pygments in /usr/local/lib/python3.10/dist-packages (from ipython->ipython-sql) (2.16.1)\n",
            "Requirement already satisfied: backcall in /usr/local/lib/python3.10/dist-packages (from ipython->ipython-sql) (0.2.0)\n",
            "Requirement already satisfied: matplotlib-inline in /usr/local/lib/python3.10/dist-packages (from ipython->ipython-sql) (0.1.6)\n",
            "Requirement already satisfied: pexpect>4.3 in /usr/local/lib/python3.10/dist-packages (from ipython->ipython-sql) (4.9.0)\n",
            "Requirement already satisfied: wcwidth in /usr/local/lib/python3.10/dist-packages (from prettytable->ipython-sql) (0.2.13)\n",
            "Requirement already satisfied: parso<0.9.0,>=0.8.3 in /usr/local/lib/python3.10/dist-packages (from jedi>=0.16->ipython->ipython-sql) (0.8.3)\n",
            "Requirement already satisfied: ptyprocess>=0.5 in /usr/local/lib/python3.10/dist-packages (from pexpect>4.3->ipython->ipython-sql) (0.7.0)\n",
            "Installing collected packages: jedi\n",
            "Successfully installed jedi-0.19.1\n"
          ]
        }
      ]
    },
    {
      "cell_type": "code",
      "source": [
        "# Load the SQL extension\n",
        "%load_ext sql"
      ],
      "metadata": {
        "id": "UxSAF-MatG7H"
      },
      "execution_count": 4,
      "outputs": []
    },
    {
      "cell_type": "code",
      "source": [
        "# Create a SQLite database\n",
        "%sql sqlite:///sql-murder-mystery.db"
      ],
      "metadata": {
        "id": "AkqZLX6PtJT4"
      },
      "execution_count": 5,
      "outputs": []
    },
    {
      "cell_type": "markdown",
      "source": [
        "## The Prompt\n",
        "A crime has taken place and the detective needs your help. The detective gave you the crime scene report, but you somehow lost it. All the clues to this mystery are buried in a huge database, and you need to use SQL to navigate through this vast network of information.\n",
        "\n",
        "You vaguely remember that the crime was a **murder** that occurred sometime on **Jan.15, 2018** and that it took place in **SQL City**. Start by retrieving the corresponding crime scene report from the police department’s database.\n",
        "\n",
        "Let's see, I'll try selecting all crimes that are in SQL City on the date of the murder..."
      ],
      "metadata": {
        "id": "CQNciecbtQQl"
      }
    },
    {
      "cell_type": "code",
      "source": [
        "%%sql\n",
        "select *\n",
        "from crime_scene_report\n",
        "where city = 'SQL City' AND date = 20180115"
      ],
      "metadata": {
        "colab": {
          "base_uri": "https://localhost:8080/",
          "height": 209
        },
        "id": "B45J3t7VtXXj",
        "outputId": "0e04e4c9-592c-4743-ac52-424ec567b7b3"
      },
      "execution_count": 6,
      "outputs": [
        {
          "output_type": "stream",
          "name": "stdout",
          "text": [
            " * sqlite:///sql-murder-mystery.db\n",
            "Done.\n"
          ]
        },
        {
          "output_type": "execute_result",
          "data": {
            "text/plain": [
              "[(20180115, 'assault', 'Hamilton: Lee, do you yield? Burr: You shot him in the side! Yes he yields!', 'SQL City'),\n",
              " (20180115, 'assault', 'Report Not Found', 'SQL City'),\n",
              " (20180115, 'murder', 'Security footage shows that there were 2 witnesses. The first witness lives at the last house on \"Northwestern Dr\". The second witness, named Annabel, lives somewhere on \"Franklin Ave\".', 'SQL City')]"
            ],
            "text/html": [
              "<table>\n",
              "    <thead>\n",
              "        <tr>\n",
              "            <th>date</th>\n",
              "            <th>type</th>\n",
              "            <th>description</th>\n",
              "            <th>city</th>\n",
              "        </tr>\n",
              "    </thead>\n",
              "    <tbody>\n",
              "        <tr>\n",
              "            <td>20180115</td>\n",
              "            <td>assault</td>\n",
              "            <td>Hamilton: Lee, do you yield? Burr: You shot him in the side! Yes he yields!</td>\n",
              "            <td>SQL City</td>\n",
              "        </tr>\n",
              "        <tr>\n",
              "            <td>20180115</td>\n",
              "            <td>assault</td>\n",
              "            <td>Report Not Found</td>\n",
              "            <td>SQL City</td>\n",
              "        </tr>\n",
              "        <tr>\n",
              "            <td>20180115</td>\n",
              "            <td>murder</td>\n",
              "            <td>Security footage shows that there were 2 witnesses. The first witness lives at the last house on &quot;Northwestern Dr&quot;. The second witness, named Annabel, lives somewhere on &quot;Franklin Ave&quot;.</td>\n",
              "            <td>SQL City</td>\n",
              "        </tr>\n",
              "    </tbody>\n",
              "</table>"
            ]
          },
          "metadata": {},
          "execution_count": 6
        }
      ]
    },
    {
      "cell_type": "markdown",
      "source": [
        "The two witnesses seem like a promising lead, i'll use the address information to find the first in the person table."
      ],
      "metadata": {
        "id": "Fs5Z5Dumtt6r"
      }
    },
    {
      "cell_type": "code",
      "source": [
        "%%sql\n",
        "select *\n",
        "from person where address_street_name = 'Northwestern Dr'\n",
        "order by address_number DESC\n",
        "limit 10;"
      ],
      "metadata": {
        "colab": {
          "base_uri": "https://localhost:8080/",
          "height": 289
        },
        "id": "ucG1UvB-tx-X",
        "outputId": "866ac1aa-daa8-4b10-b7c8-943f809e5e46"
      },
      "execution_count": 8,
      "outputs": [
        {
          "output_type": "stream",
          "name": "stdout",
          "text": [
            " * sqlite:///sql-murder-mystery.db\n",
            "Done.\n"
          ]
        },
        {
          "output_type": "execute_result",
          "data": {
            "text/plain": [
              "[(14887, 'Morty Schapiro', 118009, 4919, 'Northwestern Dr', '111564949'),\n",
              " (17729, 'Lasonya Wildey', 439686, 3824, 'Northwestern Dr', '917817122'),\n",
              " (53890, 'Sophie Tiberio', 957671, 3755, 'Northwestern Dr', '442830147'),\n",
              " (73368, 'Torie Thalmann', 773862, 3697, 'Northwestern Dr', '341559436'),\n",
              " (96595, 'Coretta Cubie', 303645, 3631, 'Northwestern Dr', '378403829'),\n",
              " (19420, 'Cody Schiel', 890431, 3524, 'Northwestern Dr', '947110049'),\n",
              " (93509, 'Emmitt Aceuedo', 916706, 3491, 'Northwestern Dr', '979073160'),\n",
              " (87456, 'Leonora Wolfsberger', 215868, 3483, 'Northwestern Dr', '565203106'),\n",
              " (36378, 'Freddie Ellzey', 267882, 3449, 'Northwestern Dr', '474117596'),\n",
              " (53076, 'Boris Bijou', 664914, 3327, 'Northwestern Dr', '401191868')]"
            ],
            "text/html": [
              "<table>\n",
              "    <thead>\n",
              "        <tr>\n",
              "            <th>id</th>\n",
              "            <th>name</th>\n",
              "            <th>license_id</th>\n",
              "            <th>address_number</th>\n",
              "            <th>address_street_name</th>\n",
              "            <th>ssn</th>\n",
              "        </tr>\n",
              "    </thead>\n",
              "    <tbody>\n",
              "        <tr>\n",
              "            <td>14887</td>\n",
              "            <td>Morty Schapiro</td>\n",
              "            <td>118009</td>\n",
              "            <td>4919</td>\n",
              "            <td>Northwestern Dr</td>\n",
              "            <td>111564949</td>\n",
              "        </tr>\n",
              "        <tr>\n",
              "            <td>17729</td>\n",
              "            <td>Lasonya Wildey</td>\n",
              "            <td>439686</td>\n",
              "            <td>3824</td>\n",
              "            <td>Northwestern Dr</td>\n",
              "            <td>917817122</td>\n",
              "        </tr>\n",
              "        <tr>\n",
              "            <td>53890</td>\n",
              "            <td>Sophie Tiberio</td>\n",
              "            <td>957671</td>\n",
              "            <td>3755</td>\n",
              "            <td>Northwestern Dr</td>\n",
              "            <td>442830147</td>\n",
              "        </tr>\n",
              "        <tr>\n",
              "            <td>73368</td>\n",
              "            <td>Torie Thalmann</td>\n",
              "            <td>773862</td>\n",
              "            <td>3697</td>\n",
              "            <td>Northwestern Dr</td>\n",
              "            <td>341559436</td>\n",
              "        </tr>\n",
              "        <tr>\n",
              "            <td>96595</td>\n",
              "            <td>Coretta Cubie</td>\n",
              "            <td>303645</td>\n",
              "            <td>3631</td>\n",
              "            <td>Northwestern Dr</td>\n",
              "            <td>378403829</td>\n",
              "        </tr>\n",
              "        <tr>\n",
              "            <td>19420</td>\n",
              "            <td>Cody Schiel</td>\n",
              "            <td>890431</td>\n",
              "            <td>3524</td>\n",
              "            <td>Northwestern Dr</td>\n",
              "            <td>947110049</td>\n",
              "        </tr>\n",
              "        <tr>\n",
              "            <td>93509</td>\n",
              "            <td>Emmitt Aceuedo</td>\n",
              "            <td>916706</td>\n",
              "            <td>3491</td>\n",
              "            <td>Northwestern Dr</td>\n",
              "            <td>979073160</td>\n",
              "        </tr>\n",
              "        <tr>\n",
              "            <td>87456</td>\n",
              "            <td>Leonora Wolfsberger</td>\n",
              "            <td>215868</td>\n",
              "            <td>3483</td>\n",
              "            <td>Northwestern Dr</td>\n",
              "            <td>565203106</td>\n",
              "        </tr>\n",
              "        <tr>\n",
              "            <td>36378</td>\n",
              "            <td>Freddie Ellzey</td>\n",
              "            <td>267882</td>\n",
              "            <td>3449</td>\n",
              "            <td>Northwestern Dr</td>\n",
              "            <td>474117596</td>\n",
              "        </tr>\n",
              "        <tr>\n",
              "            <td>53076</td>\n",
              "            <td>Boris Bijou</td>\n",
              "            <td>664914</td>\n",
              "            <td>3327</td>\n",
              "            <td>Northwestern Dr</td>\n",
              "            <td>401191868</td>\n",
              "        </tr>\n",
              "    </tbody>\n",
              "</table>"
            ]
          },
          "metadata": {},
          "execution_count": 8
        }
      ]
    },
    {
      "cell_type": "markdown",
      "source": [
        "Then I'll look for the second by name and address, duplicating the previous query and adding the name search."
      ],
      "metadata": {
        "id": "OdCXEZSWuD1Z"
      }
    },
    {
      "cell_type": "code",
      "source": [
        "%%sql\n",
        "select *\n",
        "from person\n",
        "where name LIKE '%Annabel%' AND address_street_name = 'Franklin Ave'\n",
        "order by address_number DESC;"
      ],
      "metadata": {
        "colab": {
          "base_uri": "https://localhost:8080/",
          "height": 96
        },
        "id": "Qg-UlWXBt3cu",
        "outputId": "4782b7a4-8b9c-47a3-90ae-9f7e79c32d3c"
      },
      "execution_count": 9,
      "outputs": [
        {
          "output_type": "stream",
          "name": "stdout",
          "text": [
            " * sqlite:///sql-murder-mystery.db\n",
            "Done.\n"
          ]
        },
        {
          "output_type": "execute_result",
          "data": {
            "text/plain": [
              "[(16371, 'Annabel Miller', 490173, 103, 'Franklin Ave', '318771143')]"
            ],
            "text/html": [
              "<table>\n",
              "    <thead>\n",
              "        <tr>\n",
              "            <th>id</th>\n",
              "            <th>name</th>\n",
              "            <th>license_id</th>\n",
              "            <th>address_number</th>\n",
              "            <th>address_street_name</th>\n",
              "            <th>ssn</th>\n",
              "        </tr>\n",
              "    </thead>\n",
              "    <tbody>\n",
              "        <tr>\n",
              "            <td>16371</td>\n",
              "            <td>Annabel Miller</td>\n",
              "            <td>490173</td>\n",
              "            <td>103</td>\n",
              "            <td>Franklin Ave</td>\n",
              "            <td>318771143</td>\n",
              "        </tr>\n",
              "    </tbody>\n",
              "</table>"
            ]
          },
          "metadata": {},
          "execution_count": 9
        }
      ]
    },
    {
      "cell_type": "markdown",
      "source": [
        "Let's use their person id to look for these two people in the interviews table."
      ],
      "metadata": {
        "id": "IXm__IHuuS09"
      }
    },
    {
      "cell_type": "code",
      "source": [
        "%%sql\n",
        "select *\n",
        "from interview\n",
        "WHERE person_id IN (16371,14887);"
      ],
      "metadata": {
        "colab": {
          "base_uri": "https://localhost:8080/",
          "height": 170
        },
        "id": "ZbS87Ja-uLh8",
        "outputId": "e9a51caa-0b6c-46c9-eb25-b2395a3108ed"
      },
      "execution_count": 10,
      "outputs": [
        {
          "output_type": "stream",
          "name": "stdout",
          "text": [
            " * sqlite:///sql-murder-mystery.db\n",
            "Done.\n"
          ]
        },
        {
          "output_type": "execute_result",
          "data": {
            "text/plain": [
              "[(14887, 'I heard a gunshot and then saw a man run out. He had a \"Get Fit Now Gym\" bag. The membership number on the bag started with \"48Z\". Only gold members have those bags. The man got into a car with a plate that included \"H42W\".'),\n",
              " (16371, 'I saw the murder happen, and I recognized the killer from my gym when I was working out last week on January the 9th.')]"
            ],
            "text/html": [
              "<table>\n",
              "    <thead>\n",
              "        <tr>\n",
              "            <th>person_id</th>\n",
              "            <th>transcript</th>\n",
              "        </tr>\n",
              "    </thead>\n",
              "    <tbody>\n",
              "        <tr>\n",
              "            <td>14887</td>\n",
              "            <td>I heard a gunshot and then saw a man run out. He had a &quot;Get Fit Now Gym&quot; bag. The membership number on the bag started with &quot;48Z&quot;. Only gold members have those bags. The man got into a car with a plate that included &quot;H42W&quot;.</td>\n",
              "        </tr>\n",
              "        <tr>\n",
              "            <td>16371</td>\n",
              "            <td>I saw the murder happen, and I recognized the killer from my gym when I was working out last week on January the 9th.</td>\n",
              "        </tr>\n",
              "    </tbody>\n",
              "</table>"
            ]
          },
          "metadata": {},
          "execution_count": 10
        }
      ]
    },
    {
      "cell_type": "markdown",
      "source": [
        "Ok, now let's use these very observant witnesses to search the gym membership table."
      ],
      "metadata": {
        "id": "3PtaHPnNubQs"
      }
    },
    {
      "cell_type": "code",
      "source": [
        "%%sql\n",
        "select *\n",
        "from get_fit_now_member\n",
        "where membership_status = 'gold' AND id LIKE '48Z%'"
      ],
      "metadata": {
        "colab": {
          "base_uri": "https://localhost:8080/",
          "height": 118
        },
        "id": "v8qmk4OouZFy",
        "outputId": "dcdbab77-187c-42dc-b24a-338d2c1350ab"
      },
      "execution_count": 11,
      "outputs": [
        {
          "output_type": "stream",
          "name": "stdout",
          "text": [
            " * sqlite:///sql-murder-mystery.db\n",
            "Done.\n"
          ]
        },
        {
          "output_type": "execute_result",
          "data": {
            "text/plain": [
              "[('48Z7A', 28819, 'Joe Germuska', 20160305, 'gold'),\n",
              " ('48Z55', 67318, 'Jeremy Bowers', 20160101, 'gold')]"
            ],
            "text/html": [
              "<table>\n",
              "    <thead>\n",
              "        <tr>\n",
              "            <th>id</th>\n",
              "            <th>person_id</th>\n",
              "            <th>name</th>\n",
              "            <th>membership_start_date</th>\n",
              "            <th>membership_status</th>\n",
              "        </tr>\n",
              "    </thead>\n",
              "    <tbody>\n",
              "        <tr>\n",
              "            <td>48Z7A</td>\n",
              "            <td>28819</td>\n",
              "            <td>Joe Germuska</td>\n",
              "            <td>20160305</td>\n",
              "            <td>gold</td>\n",
              "        </tr>\n",
              "        <tr>\n",
              "            <td>48Z55</td>\n",
              "            <td>67318</td>\n",
              "            <td>Jeremy Bowers</td>\n",
              "            <td>20160101</td>\n",
              "            <td>gold</td>\n",
              "        </tr>\n",
              "    </tbody>\n",
              "</table>"
            ]
          },
          "metadata": {},
          "execution_count": 11
        }
      ]
    },
    {
      "cell_type": "markdown",
      "source": [
        "Then we can get the details on those two from the person table."
      ],
      "metadata": {
        "id": "UlvnUdJ2z37U"
      }
    },
    {
      "cell_type": "code",
      "source": [
        "%%sql\n",
        "select *\n",
        "from person\n",
        "WHERE id IN (28819, 67318)"
      ],
      "metadata": {
        "colab": {
          "base_uri": "https://localhost:8080/",
          "height": 118
        },
        "id": "SYxjek_sz2DL",
        "outputId": "c2554901-a5ba-4880-b8f4-d6b10ed911bf"
      },
      "execution_count": 12,
      "outputs": [
        {
          "output_type": "stream",
          "name": "stdout",
          "text": [
            " * sqlite:///sql-murder-mystery.db\n",
            "Done.\n"
          ]
        },
        {
          "output_type": "execute_result",
          "data": {
            "text/plain": [
              "[(28819, 'Joe Germuska', 173289, 111, 'Fisk Rd', '138909730'),\n",
              " (67318, 'Jeremy Bowers', 423327, 530, 'Washington Pl, Apt 3A', '871539279')]"
            ],
            "text/html": [
              "<table>\n",
              "    <thead>\n",
              "        <tr>\n",
              "            <th>id</th>\n",
              "            <th>name</th>\n",
              "            <th>license_id</th>\n",
              "            <th>address_number</th>\n",
              "            <th>address_street_name</th>\n",
              "            <th>ssn</th>\n",
              "        </tr>\n",
              "    </thead>\n",
              "    <tbody>\n",
              "        <tr>\n",
              "            <td>28819</td>\n",
              "            <td>Joe Germuska</td>\n",
              "            <td>173289</td>\n",
              "            <td>111</td>\n",
              "            <td>Fisk Rd</td>\n",
              "            <td>138909730</td>\n",
              "        </tr>\n",
              "        <tr>\n",
              "            <td>67318</td>\n",
              "            <td>Jeremy Bowers</td>\n",
              "            <td>423327</td>\n",
              "            <td>530</td>\n",
              "            <td>Washington Pl, Apt 3A</td>\n",
              "            <td>871539279</td>\n",
              "        </tr>\n",
              "    </tbody>\n",
              "</table>"
            ]
          },
          "metadata": {},
          "execution_count": 12
        }
      ]
    },
    {
      "cell_type": "markdown",
      "source": [
        "Now let's find out if one of these two checked in on January 9th as per our first witness statement."
      ],
      "metadata": {
        "id": "g-RJBehc0AS3"
      }
    },
    {
      "cell_type": "code",
      "source": [
        "%%sql\n",
        "select *\n",
        "from get_fit_now_check_in\n",
        "WHERE membership_id in ('48Z7A', '48Z55')"
      ],
      "metadata": {
        "colab": {
          "base_uri": "https://localhost:8080/",
          "height": 118
        },
        "id": "TA-Dok-mz9xF",
        "outputId": "80b4d6af-b23e-46f8-b85b-319529cd676e"
      },
      "execution_count": 14,
      "outputs": [
        {
          "output_type": "stream",
          "name": "stdout",
          "text": [
            " * sqlite:///sql-murder-mystery.db\n",
            "Done.\n"
          ]
        },
        {
          "output_type": "execute_result",
          "data": {
            "text/plain": [
              "[('48Z7A', 20180109, 1600, 1730), ('48Z55', 20180109, 1530, 1700)]"
            ],
            "text/html": [
              "<table>\n",
              "    <thead>\n",
              "        <tr>\n",
              "            <th>membership_id</th>\n",
              "            <th>check_in_date</th>\n",
              "            <th>check_in_time</th>\n",
              "            <th>check_out_time</th>\n",
              "        </tr>\n",
              "    </thead>\n",
              "    <tbody>\n",
              "        <tr>\n",
              "            <td>48Z7A</td>\n",
              "            <td>20180109</td>\n",
              "            <td>1600</td>\n",
              "            <td>1730</td>\n",
              "        </tr>\n",
              "        <tr>\n",
              "            <td>48Z55</td>\n",
              "            <td>20180109</td>\n",
              "            <td>1530</td>\n",
              "            <td>1700</td>\n",
              "        </tr>\n",
              "    </tbody>\n",
              "</table>"
            ]
          },
          "metadata": {},
          "execution_count": 14
        }
      ]
    },
    {
      "cell_type": "markdown",
      "source": [
        "Since they were both there, it doesn't quite narrow it down. Let's use the license plate info from the second witness to figure out if one of these two was spotted."
      ],
      "metadata": {
        "id": "b_2KPKCm0PhT"
      }
    },
    {
      "cell_type": "code",
      "source": [
        "%%sql\n",
        "select person.name, drivers_license.*\n",
        "  from drivers_license\n",
        "  join person on drivers_license.id = person.license_id\n",
        "  WHERE plate_number like '%H42W%'"
      ],
      "metadata": {
        "colab": {
          "base_uri": "https://localhost:8080/",
          "height": 191
        },
        "id": "oYX4Tlf20F9b",
        "outputId": "466eaa6d-a797-47fe-e501-1bd9f14ca467"
      },
      "execution_count": 15,
      "outputs": [
        {
          "output_type": "stream",
          "name": "stdout",
          "text": [
            " * sqlite:///sql-murder-mystery.db\n",
            "Done.\n"
          ]
        },
        {
          "output_type": "execute_result",
          "data": {
            "text/plain": [
              "[('Tushar Chandra', 664760, 21, 71, 'black', 'black', 'male', '4H42WR', 'Nissan', 'Altima'),\n",
              " ('Jeremy Bowers', 423327, 30, 70, 'brown', 'brown', 'male', '0H42W2', 'Chevrolet', 'Spark LS'),\n",
              " ('Maxine Whitely', 183779, 21, 65, 'blue', 'blonde', 'female', 'H42W0X', 'Toyota', 'Prius')]"
            ],
            "text/html": [
              "<table>\n",
              "    <thead>\n",
              "        <tr>\n",
              "            <th>name</th>\n",
              "            <th>id</th>\n",
              "            <th>age</th>\n",
              "            <th>height</th>\n",
              "            <th>eye_color</th>\n",
              "            <th>hair_color</th>\n",
              "            <th>gender</th>\n",
              "            <th>plate_number</th>\n",
              "            <th>car_make</th>\n",
              "            <th>car_model</th>\n",
              "        </tr>\n",
              "    </thead>\n",
              "    <tbody>\n",
              "        <tr>\n",
              "            <td>Tushar Chandra</td>\n",
              "            <td>664760</td>\n",
              "            <td>21</td>\n",
              "            <td>71</td>\n",
              "            <td>black</td>\n",
              "            <td>black</td>\n",
              "            <td>male</td>\n",
              "            <td>4H42WR</td>\n",
              "            <td>Nissan</td>\n",
              "            <td>Altima</td>\n",
              "        </tr>\n",
              "        <tr>\n",
              "            <td>Jeremy Bowers</td>\n",
              "            <td>423327</td>\n",
              "            <td>30</td>\n",
              "            <td>70</td>\n",
              "            <td>brown</td>\n",
              "            <td>brown</td>\n",
              "            <td>male</td>\n",
              "            <td>0H42W2</td>\n",
              "            <td>Chevrolet</td>\n",
              "            <td>Spark LS</td>\n",
              "        </tr>\n",
              "        <tr>\n",
              "            <td>Maxine Whitely</td>\n",
              "            <td>183779</td>\n",
              "            <td>21</td>\n",
              "            <td>65</td>\n",
              "            <td>blue</td>\n",
              "            <td>blonde</td>\n",
              "            <td>female</td>\n",
              "            <td>H42W0X</td>\n",
              "            <td>Toyota</td>\n",
              "            <td>Prius</td>\n",
              "        </tr>\n",
              "    </tbody>\n",
              "</table>"
            ]
          },
          "metadata": {},
          "execution_count": 15
        }
      ]
    },
    {
      "cell_type": "markdown",
      "source": [
        "Aha! I recognize that name, Jeremey Bowers is the killer!"
      ],
      "metadata": {
        "id": "4s2sCVFX0X54"
      }
    },
    {
      "cell_type": "code",
      "source": [
        "%%sql\n",
        "select *\n",
        "from interview\n",
        "WHERE person_id IN (67318)"
      ],
      "metadata": {
        "colab": {
          "base_uri": "https://localhost:8080/",
          "height": 131
        },
        "id": "kyhAxFbr0UCH",
        "outputId": "5f259676-bdee-464d-b7ca-6f5e695bc81c"
      },
      "execution_count": 17,
      "outputs": [
        {
          "output_type": "stream",
          "name": "stdout",
          "text": [
            " * sqlite:///sql-murder-mystery.db\n",
            "Done.\n"
          ]
        },
        {
          "output_type": "execute_result",
          "data": {
            "text/plain": [
              "[(67318, 'I was hired by a woman with a lot of money. I don\\'t know her name but I know she\\'s around 5\\'5\" (65\") or 5\\'7\" (67\"). She has red hair and she drives a Tesla Model S. I know that she attended the SQL Symphony Concert 3 times in December 2017.\\n')]"
            ],
            "text/html": [
              "<table>\n",
              "    <thead>\n",
              "        <tr>\n",
              "            <th>person_id</th>\n",
              "            <th>transcript</th>\n",
              "        </tr>\n",
              "    </thead>\n",
              "    <tbody>\n",
              "        <tr>\n",
              "            <td>67318</td>\n",
              "            <td>I was hired by a woman with a lot of money. I don&#x27;t know her name but I know she&#x27;s around 5&#x27;5&quot; (65&quot;) or 5&#x27;7&quot; (67&quot;). She has red hair and she drives a Tesla Model S. I know that she attended the SQL Symphony Concert 3 times in December 2017.<br></td>\n",
              "        </tr>\n",
              "    </tbody>\n",
              "</table>"
            ]
          },
          "metadata": {},
          "execution_count": 17
        }
      ]
    },
    {
      "cell_type": "markdown",
      "source": [
        "Let's take a look at the drivers license details first:"
      ],
      "metadata": {
        "id": "mAd8Ocae0z0B"
      }
    },
    {
      "cell_type": "code",
      "source": [
        "%%sql\n",
        "select *\n",
        "from drivers_license\n",
        "join person on drivers_license.id = person.license_id\n",
        "where car_make = 'Tesla' and car_model = 'Model S' and gender = 'female' and hair_color = 'red'"
      ],
      "metadata": {
        "colab": {
          "base_uri": "https://localhost:8080/",
          "height": 211
        },
        "id": "nXtvcEFe02g-",
        "outputId": "9fdf0815-551a-4e23-90ba-2c4a0aabe1da"
      },
      "execution_count": 19,
      "outputs": [
        {
          "output_type": "stream",
          "name": "stdout",
          "text": [
            " * sqlite:///sql-murder-mystery.db\n",
            "Done.\n"
          ]
        },
        {
          "output_type": "execute_result",
          "data": {
            "text/plain": [
              "[(918773, 48, 65, 'black', 'red', 'female', '917UU3', 'Tesla', 'Model S', 78881, 'Red Korb', 918773, 107, 'Camerata Dr', '961388910'),\n",
              " (291182, 65, 66, 'blue', 'red', 'female', '08CM64', 'Tesla', 'Model S', 90700, 'Regina George', 291182, 332, 'Maple Ave', '337169072'),\n",
              " (202298, 68, 66, 'green', 'red', 'female', '500123', 'Tesla', 'Model S', 99716, 'Miranda Priestly', 202298, 1883, 'Golden Ave', '987756388')]"
            ],
            "text/html": [
              "<table>\n",
              "    <thead>\n",
              "        <tr>\n",
              "            <th>id</th>\n",
              "            <th>age</th>\n",
              "            <th>height</th>\n",
              "            <th>eye_color</th>\n",
              "            <th>hair_color</th>\n",
              "            <th>gender</th>\n",
              "            <th>plate_number</th>\n",
              "            <th>car_make</th>\n",
              "            <th>car_model</th>\n",
              "            <th>id_1</th>\n",
              "            <th>name</th>\n",
              "            <th>license_id</th>\n",
              "            <th>address_number</th>\n",
              "            <th>address_street_name</th>\n",
              "            <th>ssn</th>\n",
              "        </tr>\n",
              "    </thead>\n",
              "    <tbody>\n",
              "        <tr>\n",
              "            <td>918773</td>\n",
              "            <td>48</td>\n",
              "            <td>65</td>\n",
              "            <td>black</td>\n",
              "            <td>red</td>\n",
              "            <td>female</td>\n",
              "            <td>917UU3</td>\n",
              "            <td>Tesla</td>\n",
              "            <td>Model S</td>\n",
              "            <td>78881</td>\n",
              "            <td>Red Korb</td>\n",
              "            <td>918773</td>\n",
              "            <td>107</td>\n",
              "            <td>Camerata Dr</td>\n",
              "            <td>961388910</td>\n",
              "        </tr>\n",
              "        <tr>\n",
              "            <td>291182</td>\n",
              "            <td>65</td>\n",
              "            <td>66</td>\n",
              "            <td>blue</td>\n",
              "            <td>red</td>\n",
              "            <td>female</td>\n",
              "            <td>08CM64</td>\n",
              "            <td>Tesla</td>\n",
              "            <td>Model S</td>\n",
              "            <td>90700</td>\n",
              "            <td>Regina George</td>\n",
              "            <td>291182</td>\n",
              "            <td>332</td>\n",
              "            <td>Maple Ave</td>\n",
              "            <td>337169072</td>\n",
              "        </tr>\n",
              "        <tr>\n",
              "            <td>202298</td>\n",
              "            <td>68</td>\n",
              "            <td>66</td>\n",
              "            <td>green</td>\n",
              "            <td>red</td>\n",
              "            <td>female</td>\n",
              "            <td>500123</td>\n",
              "            <td>Tesla</td>\n",
              "            <td>Model S</td>\n",
              "            <td>99716</td>\n",
              "            <td>Miranda Priestly</td>\n",
              "            <td>202298</td>\n",
              "            <td>1883</td>\n",
              "            <td>Golden Ave</td>\n",
              "            <td>987756388</td>\n",
              "        </tr>\n",
              "    </tbody>\n",
              "</table>"
            ]
          },
          "metadata": {},
          "execution_count": 19
        }
      ]
    },
    {
      "cell_type": "markdown",
      "source": [
        "If we grab these 3 very similar people and see who went to the concert that might help."
      ],
      "metadata": {
        "id": "FA3VIXAt1Ijk"
      }
    },
    {
      "cell_type": "code",
      "source": [
        "%%sql\n",
        "select *\n",
        "from facebook_event_checkin\n",
        "where person_id in (78881,90700,99716)"
      ],
      "metadata": {
        "colab": {
          "base_uri": "https://localhost:8080/",
          "height": 139
        },
        "id": "9j79pxns1CUZ",
        "outputId": "da680f07-2b2a-41b5-84e8-d6980e08a3b4"
      },
      "execution_count": 20,
      "outputs": [
        {
          "output_type": "stream",
          "name": "stdout",
          "text": [
            " * sqlite:///sql-murder-mystery.db\n",
            "Done.\n"
          ]
        },
        {
          "output_type": "execute_result",
          "data": {
            "text/plain": [
              "[(99716, 1143, 'SQL Symphony Concert', 20171206),\n",
              " (99716, 1143, 'SQL Symphony Concert', 20171212),\n",
              " (99716, 1143, 'SQL Symphony Concert', 20171229)]"
            ],
            "text/html": [
              "<table>\n",
              "    <thead>\n",
              "        <tr>\n",
              "            <th>person_id</th>\n",
              "            <th>event_id</th>\n",
              "            <th>event_name</th>\n",
              "            <th>date</th>\n",
              "        </tr>\n",
              "    </thead>\n",
              "    <tbody>\n",
              "        <tr>\n",
              "            <td>99716</td>\n",
              "            <td>1143</td>\n",
              "            <td>SQL Symphony Concert</td>\n",
              "            <td>20171206</td>\n",
              "        </tr>\n",
              "        <tr>\n",
              "            <td>99716</td>\n",
              "            <td>1143</td>\n",
              "            <td>SQL Symphony Concert</td>\n",
              "            <td>20171212</td>\n",
              "        </tr>\n",
              "        <tr>\n",
              "            <td>99716</td>\n",
              "            <td>1143</td>\n",
              "            <td>SQL Symphony Concert</td>\n",
              "            <td>20171229</td>\n",
              "        </tr>\n",
              "    </tbody>\n",
              "</table>"
            ]
          },
          "metadata": {},
          "execution_count": 20
        }
      ]
    },
    {
      "cell_type": "markdown",
      "source": [
        "Alright! there is only one of the 3 that went to the concert 3 times in december... let's use a join to get the name:"
      ],
      "metadata": {
        "id": "JDbOnjS01TVv"
      }
    },
    {
      "cell_type": "code",
      "source": [
        "%%sql\n",
        "select *\n",
        "from facebook_event_checkin\n",
        "join person on facebook_event_checkin.person_id = person.id\n",
        "where person_id in (78881,90700,99716)"
      ],
      "metadata": {
        "colab": {
          "base_uri": "https://localhost:8080/",
          "height": 263
        },
        "id": "v7K39ksM1PAW",
        "outputId": "f2a25ce4-9ffd-4b5b-fc3b-eb0068f46a0e"
      },
      "execution_count": 21,
      "outputs": [
        {
          "output_type": "stream",
          "name": "stdout",
          "text": [
            " * sqlite:///sql-murder-mystery.db\n",
            "Done.\n"
          ]
        },
        {
          "output_type": "execute_result",
          "data": {
            "text/plain": [
              "[(99716, 1143, 'SQL Symphony Concert', 20171206, 99716, 'Miranda Priestly', 202298, 1883, 'Golden Ave', '987756388'),\n",
              " (99716, 1143, 'SQL Symphony Concert', 20171212, 99716, 'Miranda Priestly', 202298, 1883, 'Golden Ave', '987756388'),\n",
              " (99716, 1143, 'SQL Symphony Concert', 20171229, 99716, 'Miranda Priestly', 202298, 1883, 'Golden Ave', '987756388')]"
            ],
            "text/html": [
              "<table>\n",
              "    <thead>\n",
              "        <tr>\n",
              "            <th>person_id</th>\n",
              "            <th>event_id</th>\n",
              "            <th>event_name</th>\n",
              "            <th>date</th>\n",
              "            <th>id</th>\n",
              "            <th>name</th>\n",
              "            <th>license_id</th>\n",
              "            <th>address_number</th>\n",
              "            <th>address_street_name</th>\n",
              "            <th>ssn</th>\n",
              "        </tr>\n",
              "    </thead>\n",
              "    <tbody>\n",
              "        <tr>\n",
              "            <td>99716</td>\n",
              "            <td>1143</td>\n",
              "            <td>SQL Symphony Concert</td>\n",
              "            <td>20171206</td>\n",
              "            <td>99716</td>\n",
              "            <td>Miranda Priestly</td>\n",
              "            <td>202298</td>\n",
              "            <td>1883</td>\n",
              "            <td>Golden Ave</td>\n",
              "            <td>987756388</td>\n",
              "        </tr>\n",
              "        <tr>\n",
              "            <td>99716</td>\n",
              "            <td>1143</td>\n",
              "            <td>SQL Symphony Concert</td>\n",
              "            <td>20171212</td>\n",
              "            <td>99716</td>\n",
              "            <td>Miranda Priestly</td>\n",
              "            <td>202298</td>\n",
              "            <td>1883</td>\n",
              "            <td>Golden Ave</td>\n",
              "            <td>987756388</td>\n",
              "        </tr>\n",
              "        <tr>\n",
              "            <td>99716</td>\n",
              "            <td>1143</td>\n",
              "            <td>SQL Symphony Concert</td>\n",
              "            <td>20171229</td>\n",
              "            <td>99716</td>\n",
              "            <td>Miranda Priestly</td>\n",
              "            <td>202298</td>\n",
              "            <td>1883</td>\n",
              "            <td>Golden Ave</td>\n",
              "            <td>987756388</td>\n",
              "        </tr>\n",
              "    </tbody>\n",
              "</table>"
            ]
          },
          "metadata": {},
          "execution_count": 21
        }
      ]
    },
    {
      "cell_type": "markdown",
      "source": [
        "And there we have it, Miranda Priestly is the mastermind!"
      ],
      "metadata": {
        "id": "KIYC-KbP1cCa"
      }
    }
  ]
}