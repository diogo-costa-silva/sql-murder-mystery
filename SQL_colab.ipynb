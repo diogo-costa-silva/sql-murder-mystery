{
  "nbformat": 4,
  "nbformat_minor": 0,
  "metadata": {
    "colab": {
      "provenance": [],
      "authorship_tag": "ABX9TyP0+wILbXFg1SJ6iGHGHyuu",
      "include_colab_link": true
    },
    "kernelspec": {
      "name": "python3",
      "display_name": "Python 3"
    },
    "language_info": {
      "name": "python"
    }
  },
  "cells": [
    {
      "cell_type": "markdown",
      "metadata": {
        "id": "view-in-github",
        "colab_type": "text"
      },
      "source": [
        "<a href=\"https://colab.research.google.com/github/diogo-costa-silva/sql-murder-mystery/blob/main/SQL_colab.ipynb\" target=\"_parent\"><img src=\"https://colab.research.google.com/assets/colab-badge.svg\" alt=\"Open In Colab\"/></a>"
      ]
    },
    {
      "cell_type": "code",
      "source": [
        "# getting the database from my github\n",
        "!wget https://github.com/diogo-costa-silva/assets/raw/main/databases/sql-murder-mystery.db -O sql-murder-mystery.db"
      ],
      "metadata": {
        "id": "CKSuxkMgrThz"
      },
      "execution_count": null,
      "outputs": []
    },
    {
      "cell_type": "code",
      "source": [
        "# Install ipython-sql\n",
        "!pip install ipython-sql"
      ],
      "metadata": {
        "colab": {
          "base_uri": "https://localhost:8080/"
        },
        "id": "ELkCzgTFpYaO",
        "outputId": "57e370e9-0d95-4b44-f8bb-5b2c664f5469"
      },
      "execution_count": 2,
      "outputs": [
        {
          "output_type": "stream",
          "name": "stdout",
          "text": [
            "Requirement already satisfied: ipython-sql in /usr/local/lib/python3.10/dist-packages (0.5.0)\n",
            "Requirement already satisfied: prettytable in /usr/local/lib/python3.10/dist-packages (from ipython-sql) (3.9.0)\n",
            "Requirement already satisfied: ipython in /usr/local/lib/python3.10/dist-packages (from ipython-sql) (7.34.0)\n",
            "Requirement already satisfied: sqlalchemy>=2.0 in /usr/local/lib/python3.10/dist-packages (from ipython-sql) (2.0.27)\n",
            "Requirement already satisfied: sqlparse in /usr/local/lib/python3.10/dist-packages (from ipython-sql) (0.4.4)\n",
            "Requirement already satisfied: six in /usr/local/lib/python3.10/dist-packages (from ipython-sql) (1.16.0)\n",
            "Requirement already satisfied: ipython-genutils in /usr/local/lib/python3.10/dist-packages (from ipython-sql) (0.2.0)\n",
            "Requirement already satisfied: typing-extensions>=4.6.0 in /usr/local/lib/python3.10/dist-packages (from sqlalchemy>=2.0->ipython-sql) (4.9.0)\n",
            "Requirement already satisfied: greenlet!=0.4.17 in /usr/local/lib/python3.10/dist-packages (from sqlalchemy>=2.0->ipython-sql) (3.0.3)\n",
            "Requirement already satisfied: setuptools>=18.5 in /usr/local/lib/python3.10/dist-packages (from ipython->ipython-sql) (67.7.2)\n",
            "Collecting jedi>=0.16 (from ipython->ipython-sql)\n",
            "  Downloading jedi-0.19.1-py2.py3-none-any.whl (1.6 MB)\n",
            "\u001b[2K     \u001b[90m━━━━━━━━━━━━━━━━━━━━━━━━━━━━━━━━━━━━━━━━\u001b[0m \u001b[32m1.6/1.6 MB\u001b[0m \u001b[31m10.3 MB/s\u001b[0m eta \u001b[36m0:00:00\u001b[0m\n",
            "\u001b[?25hRequirement already satisfied: decorator in /usr/local/lib/python3.10/dist-packages (from ipython->ipython-sql) (4.4.2)\n",
            "Requirement already satisfied: pickleshare in /usr/local/lib/python3.10/dist-packages (from ipython->ipython-sql) (0.7.5)\n",
            "Requirement already satisfied: traitlets>=4.2 in /usr/local/lib/python3.10/dist-packages (from ipython->ipython-sql) (5.7.1)\n",
            "Requirement already satisfied: prompt-toolkit!=3.0.0,!=3.0.1,<3.1.0,>=2.0.0 in /usr/local/lib/python3.10/dist-packages (from ipython->ipython-sql) (3.0.43)\n",
            "Requirement already satisfied: pygments in /usr/local/lib/python3.10/dist-packages (from ipython->ipython-sql) (2.16.1)\n",
            "Requirement already satisfied: backcall in /usr/local/lib/python3.10/dist-packages (from ipython->ipython-sql) (0.2.0)\n",
            "Requirement already satisfied: matplotlib-inline in /usr/local/lib/python3.10/dist-packages (from ipython->ipython-sql) (0.1.6)\n",
            "Requirement already satisfied: pexpect>4.3 in /usr/local/lib/python3.10/dist-packages (from ipython->ipython-sql) (4.9.0)\n",
            "Requirement already satisfied: wcwidth in /usr/local/lib/python3.10/dist-packages (from prettytable->ipython-sql) (0.2.13)\n",
            "Requirement already satisfied: parso<0.9.0,>=0.8.3 in /usr/local/lib/python3.10/dist-packages (from jedi>=0.16->ipython->ipython-sql) (0.8.3)\n",
            "Requirement already satisfied: ptyprocess>=0.5 in /usr/local/lib/python3.10/dist-packages (from pexpect>4.3->ipython->ipython-sql) (0.7.0)\n",
            "Installing collected packages: jedi\n",
            "Successfully installed jedi-0.19.1\n"
          ]
        }
      ]
    },
    {
      "cell_type": "code",
      "source": [
        "# Load the SQL extension\n",
        "%load_ext sql"
      ],
      "metadata": {
        "id": "L2xXFgvBrK5o"
      },
      "execution_count": null,
      "outputs": []
    },
    {
      "cell_type": "code",
      "source": [
        "# Create a SQLite database\n",
        "%sql sqlite:///sql-murder-mystery.db"
      ],
      "metadata": {
        "id": "LEFTf9Y3pb-W"
      },
      "execution_count": 7,
      "outputs": []
    },
    {
      "cell_type": "code",
      "source": [
        "# EXAMPLE -- Execute SQL commands to create a table, insert data, and run a query\n",
        "%%sql\n",
        "CREATE TABLE test_table(name, age);\n",
        "INSERT INTO test_table VALUES('Alice', 24);\n",
        "SELECT * FROM test_table;"
      ],
      "metadata": {
        "colab": {
          "base_uri": "https://localhost:8080/",
          "height": 131
        },
        "id": "ivDuSYBqpgMH",
        "outputId": "ee61449f-c87e-42ad-8e26-e717ebaef5c9"
      },
      "execution_count": 4,
      "outputs": [
        {
          "output_type": "stream",
          "name": "stdout",
          "text": [
            " * sqlite://\n",
            "Done.\n",
            "1 rows affected.\n",
            "Done.\n"
          ]
        },
        {
          "output_type": "execute_result",
          "data": {
            "text/plain": [
              "[('Alice', 24)]"
            ],
            "text/html": [
              "<table>\n",
              "    <thead>\n",
              "        <tr>\n",
              "            <th>name</th>\n",
              "            <th>age</th>\n",
              "        </tr>\n",
              "    </thead>\n",
              "    <tbody>\n",
              "        <tr>\n",
              "            <td>Alice</td>\n",
              "            <td>24</td>\n",
              "        </tr>\n",
              "    </tbody>\n",
              "</table>"
            ]
          },
          "metadata": {},
          "execution_count": 4
        }
      ]
    },
    {
      "cell_type": "markdown",
      "source": [
        "### SQL Commands used in this exercise:\n",
        "\n",
        "SELECT -- Extracts data from a database <br>\n",
        "FROM -- Specify the location of the table you will extract the data <br>\n",
        "INNER JOIN, ON -- keyword selects records that have matching values in both tables <br>\n",
        "WHERE -- Clause used to filter the output <br>\n",
        "ORDER BY -- keyword is used to sort the result in ascending or descending order <br>\n",
        "LIKE -- Performs a partial string match <br>\n",
        "INSERT INTO -- Adds new rows to a table <br>\n",
        "VALUES -- Specifies the values to be inserted <br>\n",
        "DISTINCT -- Filters out duplicate values from the result set <br>\n",
        "GROUP BY -- Groups rows based on specified columns <br>\n",
        "HAVING -- Filters groups based on aggregate functions <br>\n",
        "COUNT -- Calculates the number of rows or non-null values <br>\n",
        "AS -- Assigns an alias to a column or table <br>\n",
        "AND -- Combines multiple conditions in a WHERE clause <br>\n",
        "OR -- Combines multiple conditions, at least one of which must be true <br>\n",
        "\n",
        "<br>\n",
        "\n",
        "---\n",
        "\n",
        "<br>\n",
        "\n",
        "The initial clues provided are the following:\n",
        "\n",
        "- The crime is murder\n",
        "- The crime happened on Jan 15, 2018​\n",
        "- Took place at SQL City\n",
        "\n",
        "<br>\n",
        "\n",
        "## Step 1\n",
        "\n",
        "The first step is to check the “crime_scene_report” table where the city should be at **SQL City** at the time of **Jan 15, 2018**."
      ],
      "metadata": {
        "id": "S-dpmVWwou2w"
      }
    },
    {
      "cell_type": "code",
      "source": [
        "%%sql\n",
        "SELECT type, description, city FROM crime_scene_report\n",
        "WHERE date = 20180115 AND city = 'SQL City'"
      ],
      "metadata": {
        "colab": {
          "base_uri": "https://localhost:8080/",
          "height": 226
        },
        "id": "LqkrH20dozDP",
        "outputId": "1deee03b-f78a-490f-c798-4fa6ffae152d"
      },
      "execution_count": 9,
      "outputs": [
        {
          "output_type": "stream",
          "name": "stdout",
          "text": [
            "   sqlite://\n",
            " * sqlite:///sql-murder-mystery.db\n",
            "Done.\n"
          ]
        },
        {
          "output_type": "execute_result",
          "data": {
            "text/plain": [
              "[('assault', 'Hamilton: Lee, do you yield? Burr: You shot him in the side! Yes he yields!', 'SQL City'),\n",
              " ('assault', 'Report Not Found', 'SQL City'),\n",
              " ('murder', 'Security footage shows that there were 2 witnesses. The first witness lives at the last house on \"Northwestern Dr\". The second witness, named Annabel, lives somewhere on \"Franklin Ave\".', 'SQL City')]"
            ],
            "text/html": [
              "<table>\n",
              "    <thead>\n",
              "        <tr>\n",
              "            <th>type</th>\n",
              "            <th>description</th>\n",
              "            <th>city</th>\n",
              "        </tr>\n",
              "    </thead>\n",
              "    <tbody>\n",
              "        <tr>\n",
              "            <td>assault</td>\n",
              "            <td>Hamilton: Lee, do you yield? Burr: You shot him in the side! Yes he yields!</td>\n",
              "            <td>SQL City</td>\n",
              "        </tr>\n",
              "        <tr>\n",
              "            <td>assault</td>\n",
              "            <td>Report Not Found</td>\n",
              "            <td>SQL City</td>\n",
              "        </tr>\n",
              "        <tr>\n",
              "            <td>murder</td>\n",
              "            <td>Security footage shows that there were 2 witnesses. The first witness lives at the last house on &quot;Northwestern Dr&quot;. The second witness, named Annabel, lives somewhere on &quot;Franklin Ave&quot;.</td>\n",
              "            <td>SQL City</td>\n",
              "        </tr>\n",
              "    </tbody>\n",
              "</table>"
            ]
          },
          "metadata": {},
          "execution_count": 9
        }
      ]
    },
    {
      "cell_type": "markdown",
      "source": [
        "## Step 2\n",
        "\n",
        "Since this is SQL Murder mystery, I should focus on the type of crime which is **murder**. A clue provided here in the “crime_scene_report” table is that there are **two witnesses**, the **first** one lives at the last house on **Northwestern Dr** and the **second**  who’s name is **Annabel** and lives somewhere on **Franklin Ave**.\n",
        "\n",
        "Let’s find the **first witness** that lives at the **last house** on **Northwestern Dr**.\n",
        "\n"
      ],
      "metadata": {
        "id": "MMnLtYmbs0oQ"
      }
    },
    {
      "cell_type": "code",
      "execution_count": 13,
      "metadata": {
        "colab": {
          "base_uri": "https://localhost:8080/",
          "height": 306
        },
        "id": "HDC-5qH5omsj",
        "outputId": "754f35c9-6153-4e2f-df31-5243c2b50eb6"
      },
      "outputs": [
        {
          "output_type": "stream",
          "name": "stdout",
          "text": [
            "   sqlite://\n",
            " * sqlite:///sql-murder-mystery.db\n",
            "Done.\n"
          ]
        },
        {
          "output_type": "execute_result",
          "data": {
            "text/plain": [
              "[('Morty Schapiro', 4919, 'Northwestern Dr'),\n",
              " ('Lasonya Wildey', 3824, 'Northwestern Dr'),\n",
              " ('Sophie Tiberio', 3755, 'Northwestern Dr'),\n",
              " ('Torie Thalmann', 3697, 'Northwestern Dr'),\n",
              " ('Coretta Cubie', 3631, 'Northwestern Dr'),\n",
              " ('Cody Schiel', 3524, 'Northwestern Dr'),\n",
              " ('Emmitt Aceuedo', 3491, 'Northwestern Dr'),\n",
              " ('Leonora Wolfsberger', 3483, 'Northwestern Dr'),\n",
              " ('Freddie Ellzey', 3449, 'Northwestern Dr'),\n",
              " ('Boris Bijou', 3327, 'Northwestern Dr')]"
            ],
            "text/html": [
              "<table>\n",
              "    <thead>\n",
              "        <tr>\n",
              "            <th>name</th>\n",
              "            <th>address_number</th>\n",
              "            <th>address_street_name</th>\n",
              "        </tr>\n",
              "    </thead>\n",
              "    <tbody>\n",
              "        <tr>\n",
              "            <td>Morty Schapiro</td>\n",
              "            <td>4919</td>\n",
              "            <td>Northwestern Dr</td>\n",
              "        </tr>\n",
              "        <tr>\n",
              "            <td>Lasonya Wildey</td>\n",
              "            <td>3824</td>\n",
              "            <td>Northwestern Dr</td>\n",
              "        </tr>\n",
              "        <tr>\n",
              "            <td>Sophie Tiberio</td>\n",
              "            <td>3755</td>\n",
              "            <td>Northwestern Dr</td>\n",
              "        </tr>\n",
              "        <tr>\n",
              "            <td>Torie Thalmann</td>\n",
              "            <td>3697</td>\n",
              "            <td>Northwestern Dr</td>\n",
              "        </tr>\n",
              "        <tr>\n",
              "            <td>Coretta Cubie</td>\n",
              "            <td>3631</td>\n",
              "            <td>Northwestern Dr</td>\n",
              "        </tr>\n",
              "        <tr>\n",
              "            <td>Cody Schiel</td>\n",
              "            <td>3524</td>\n",
              "            <td>Northwestern Dr</td>\n",
              "        </tr>\n",
              "        <tr>\n",
              "            <td>Emmitt Aceuedo</td>\n",
              "            <td>3491</td>\n",
              "            <td>Northwestern Dr</td>\n",
              "        </tr>\n",
              "        <tr>\n",
              "            <td>Leonora Wolfsberger</td>\n",
              "            <td>3483</td>\n",
              "            <td>Northwestern Dr</td>\n",
              "        </tr>\n",
              "        <tr>\n",
              "            <td>Freddie Ellzey</td>\n",
              "            <td>3449</td>\n",
              "            <td>Northwestern Dr</td>\n",
              "        </tr>\n",
              "        <tr>\n",
              "            <td>Boris Bijou</td>\n",
              "            <td>3327</td>\n",
              "            <td>Northwestern Dr</td>\n",
              "        </tr>\n",
              "    </tbody>\n",
              "</table>"
            ]
          },
          "metadata": {},
          "execution_count": 13
        }
      ],
      "source": [
        "%%sql\n",
        "SELECT name, address_number, address_street_name\n",
        "FROM person\n",
        "WHERE address_street_name LIKE '%Northwestern%'\n",
        "ORDER BY address_number DESC\n",
        "LIMIT 10;"
      ]
    },
    {
      "cell_type": "markdown",
      "source": [
        "## Step 3\n",
        "\n",
        "Let’s check **Morty Schapiro’s** statement if we can get more leads to this crime.\n",
        "\n"
      ],
      "metadata": {
        "id": "gTBxMbLGtww5"
      }
    },
    {
      "cell_type": "code",
      "source": [
        "%%sql\n",
        "SELECT person.name, interview.transcript FROM interview\n",
        "INNER JOIN person\n",
        "ON interview.person_id = person.id\n",
        "WHERE person.name = 'Morty Schapiro';"
      ],
      "metadata": {
        "colab": {
          "base_uri": "https://localhost:8080/",
          "height": 149
        },
        "id": "tAQoa710tgp4",
        "outputId": "87b1a4ca-69da-4e1b-9c07-dc6a6cc189a4"
      },
      "execution_count": 14,
      "outputs": [
        {
          "output_type": "stream",
          "name": "stdout",
          "text": [
            "   sqlite://\n",
            " * sqlite:///sql-murder-mystery.db\n",
            "Done.\n"
          ]
        },
        {
          "output_type": "execute_result",
          "data": {
            "text/plain": [
              "[('Morty Schapiro', 'I heard a gunshot and then saw a man run out. He had a \"Get Fit Now Gym\" bag. The membership number on the bag started with \"48Z\". Only gold members have those bags. The man got into a car with a plate that included \"H42W\".')]"
            ],
            "text/html": [
              "<table>\n",
              "    <thead>\n",
              "        <tr>\n",
              "            <th>name</th>\n",
              "            <th>transcript</th>\n",
              "        </tr>\n",
              "    </thead>\n",
              "    <tbody>\n",
              "        <tr>\n",
              "            <td>Morty Schapiro</td>\n",
              "            <td>I heard a gunshot and then saw a man run out. He had a &quot;Get Fit Now Gym&quot; bag. The membership number on the bag started with &quot;48Z&quot;. Only gold members have those bags. The man got into a car with a plate that included &quot;H42W&quot;.</td>\n",
              "        </tr>\n",
              "    </tbody>\n",
              "</table>"
            ]
          },
          "metadata": {},
          "execution_count": 14
        }
      ]
    },
    {
      "cell_type": "markdown",
      "source": [
        "The clues provided by **Morty Schapiro** are the **gender**, **membership number** and **car plate**, but first let’s check the statement of <u>second witness</u>."
      ],
      "metadata": {
        "id": "7t1u-6qauGaT"
      }
    },
    {
      "cell_type": "code",
      "source": [
        "%%sql\n",
        "SELECT name, address_number, address_street_name\n",
        "FROM person\n",
        "WHERE address_street_name LIKE '%Franklin Ave%' AND name LIKE 'Annabel%';"
      ],
      "metadata": {
        "colab": {
          "base_uri": "https://localhost:8080/",
          "height": 114
        },
        "id": "51D1kjYxuCO-",
        "outputId": "c5181fde-41f5-40c3-b67b-e9f7395acbcd"
      },
      "execution_count": 16,
      "outputs": [
        {
          "output_type": "stream",
          "name": "stdout",
          "text": [
            "   sqlite://\n",
            " * sqlite:///sql-murder-mystery.db\n",
            "Done.\n"
          ]
        },
        {
          "output_type": "execute_result",
          "data": {
            "text/plain": [
              "[('Annabel Miller', 103, 'Franklin Ave')]"
            ],
            "text/html": [
              "<table>\n",
              "    <thead>\n",
              "        <tr>\n",
              "            <th>name</th>\n",
              "            <th>address_number</th>\n",
              "            <th>address_street_name</th>\n",
              "        </tr>\n",
              "    </thead>\n",
              "    <tbody>\n",
              "        <tr>\n",
              "            <td>Annabel Miller</td>\n",
              "            <td>103</td>\n",
              "            <td>Franklin Ave</td>\n",
              "        </tr>\n",
              "    </tbody>\n",
              "</table>"
            ]
          },
          "metadata": {},
          "execution_count": 16
        }
      ]
    },
    {
      "cell_type": "markdown",
      "source": [
        "## Step 3\n",
        "\n",
        "We will now check **Annabel Miller’s** statement if we can get more leads to this crime."
      ],
      "metadata": {
        "id": "qOpxQJusur1T"
      }
    },
    {
      "cell_type": "code",
      "source": [
        "%%sql\n",
        "SELECT person.name, interview.transcript\n",
        "FROM interview\n",
        "INNER JOIN person\n",
        "ON interview.person_id = person.id\n",
        "WHERE person.name = 'Annabel Miller';"
      ],
      "metadata": {
        "colab": {
          "base_uri": "https://localhost:8080/",
          "height": 131
        },
        "id": "IBM-C0mKuaTt",
        "outputId": "243e5db8-c9c6-4be9-9080-94ae57cd0baf"
      },
      "execution_count": 17,
      "outputs": [
        {
          "output_type": "stream",
          "name": "stdout",
          "text": [
            "   sqlite://\n",
            " * sqlite:///sql-murder-mystery.db\n",
            "Done.\n"
          ]
        },
        {
          "output_type": "execute_result",
          "data": {
            "text/plain": [
              "[('Annabel Miller', 'I saw the murder happen, and I recognized the killer from my gym when I was working out last week on January the 9th.')]"
            ],
            "text/html": [
              "<table>\n",
              "    <thead>\n",
              "        <tr>\n",
              "            <th>name</th>\n",
              "            <th>transcript</th>\n",
              "        </tr>\n",
              "    </thead>\n",
              "    <tbody>\n",
              "        <tr>\n",
              "            <td>Annabel Miller</td>\n",
              "            <td>I saw the murder happen, and I recognized the killer from my gym when I was working out last week on January the 9th.</td>\n",
              "        </tr>\n",
              "    </tbody>\n",
              "</table>"
            ]
          },
          "metadata": {},
          "execution_count": 17
        }
      ]
    },
    {
      "cell_type": "markdown",
      "source": [
        "By having the statements of **both witnesses**, we can now query that the killer is a **man**, which has a **Gold** membership in the “Get Fit Now Gym” with a number that started with **\"48Z\"**. His car plate included **“H42W”**, and the second witness recognized him from when he was working out last week on January 9th (**20180109**).\n",
        "\n",
        "Let's try to query this as a whole and use alias as this query get long."
      ],
      "metadata": {
        "id": "zSS3aw1Ju5Pb"
      }
    },
    {
      "cell_type": "code",
      "source": [
        "%%sql\n",
        "SELECT membership.name\n",
        "FROM get_fit_now_member AS membership\n",
        "INNER JOIN get_fit_now_check_in AS checkin ON checkin.membership_id = membership.id\n",
        "INNER JOIN person ON membership.person_id = person.id\n",
        "INNER JOIN drivers_license as drivlic ON person.license_id = drivlic.id\n",
        "WHERE checkin.check_in_date = 20180109\n",
        " AND membership.membership_status = 'gold'\n",
        " AND drivlic.plate_number LIKE '%H42W%';"
      ],
      "metadata": {
        "colab": {
          "base_uri": "https://localhost:8080/",
          "height": 114
        },
        "id": "B11-EFnbu2op",
        "outputId": "62513ef3-7b58-4103-f892-a8c8e009c8ba"
      },
      "execution_count": 19,
      "outputs": [
        {
          "output_type": "stream",
          "name": "stdout",
          "text": [
            "   sqlite://\n",
            " * sqlite:///sql-murder-mystery.db\n",
            "Done.\n"
          ]
        },
        {
          "output_type": "execute_result",
          "data": {
            "text/plain": [
              "[('Jeremy Bowers',)]"
            ],
            "text/html": [
              "<table>\n",
              "    <thead>\n",
              "        <tr>\n",
              "            <th>name</th>\n",
              "        </tr>\n",
              "    </thead>\n",
              "    <tbody>\n",
              "        <tr>\n",
              "            <td>Jeremy Bowers</td>\n",
              "        </tr>\n",
              "    </tbody>\n",
              "</table>"
            ]
          },
          "metadata": {},
          "execution_count": 19
        }
      ]
    },
    {
      "cell_type": "code",
      "source": [
        "SELECT"
      ],
      "metadata": {
        "id": "0NOA_7qe3daZ"
      },
      "execution_count": null,
      "outputs": []
    },
    {
      "cell_type": "markdown",
      "source": [
        "## Step 4\n",
        "\n",
        "By providing some of the conditions, we came up with a certain name of **Jeremy Bowers**. Lets try to connect the **gender** and the **membership number** and see if the query returs the same name or no data."
      ],
      "metadata": {
        "id": "IqFNJSkyweLH"
      }
    },
    {
      "cell_type": "code",
      "source": [
        "%%sql\n",
        "SELECT membership.name, membership.id\n",
        "FROM get_fit_now_member AS membership\n",
        "INNER JOIN get_fit_now_check_in AS checkin ON checkin.membership_id = membership.id\n",
        "INNER JOIN person ON membership.person_id = person.id\n",
        "INNER JOIN drivers_license as drivlic ON person.license_id = drivlic.id\n",
        "WHERE membership.name = \"Jeremy Bowers\"\n",
        " AND drivlic.gender = \"male\";"
      ],
      "metadata": {
        "colab": {
          "base_uri": "https://localhost:8080/",
          "height": 114
        },
        "id": "sXk5Vp6HwJN7",
        "outputId": "9dec8ffe-ade7-4b72-ce1d-e851007060c8"
      },
      "execution_count": 21,
      "outputs": [
        {
          "output_type": "stream",
          "name": "stdout",
          "text": [
            "   sqlite://\n",
            " * sqlite:///sql-murder-mystery.db\n",
            "Done.\n"
          ]
        },
        {
          "output_type": "execute_result",
          "data": {
            "text/plain": [
              "[('Jeremy Bowers', '48Z55')]"
            ],
            "text/html": [
              "<table>\n",
              "    <thead>\n",
              "        <tr>\n",
              "            <th>name</th>\n",
              "            <th>id</th>\n",
              "        </tr>\n",
              "    </thead>\n",
              "    <tbody>\n",
              "        <tr>\n",
              "            <td>Jeremy Bowers</td>\n",
              "            <td>48Z55</td>\n",
              "        </tr>\n",
              "    </tbody>\n",
              "</table>"
            ]
          },
          "metadata": {},
          "execution_count": 21
        }
      ]
    },
    {
      "cell_type": "markdown",
      "source": [
        "Given all of the conditions stated on the SQL query, we now found the suspect on the murder case. Let’s try to check if our answer is correct.\n",
        "\n",
        "![Check-your-solution](https://raw.githubusercontent.com/diogo-costa-silva/sql-murder-mystery/main/images/check_your_solution_1.png)\n",
        "\n",
        "## Step 5\n",
        "\n",
        "I will now check Jeremy Bowers’ statement regarding to find the real villain behind this crime."
      ],
      "metadata": {
        "id": "mgFbDcP64KVk"
      }
    },
    {
      "cell_type": "code",
      "source": [
        "%%sql\n",
        "SELECT person.name, interview.transcript\n",
        "FROM interview\n",
        "INNER JOIN person ON interview.person_id = person.id\n",
        "WHERE person.name = 'Jeremy Bowers';"
      ],
      "metadata": {
        "colab": {
          "base_uri": "https://localhost:8080/",
          "height": 149
        },
        "id": "MpbZ16Fj39Fz",
        "outputId": "63cf69ce-d3ba-4f6c-ce40-b8f3140ce5a9"
      },
      "execution_count": 22,
      "outputs": [
        {
          "output_type": "stream",
          "name": "stdout",
          "text": [
            "   sqlite://\n",
            " * sqlite:///sql-murder-mystery.db\n",
            "Done.\n"
          ]
        },
        {
          "output_type": "execute_result",
          "data": {
            "text/plain": [
              "[('Jeremy Bowers', 'I was hired by a woman with a lot of money. I don\\'t know her name but I know she\\'s around 5\\'5\" (65\") or 5\\'7\" (67\"). She has red hair and she drives a Tesla Model S. I know that she attended the SQL Symphony Concert 3 times in December 2017.\\n')]"
            ],
            "text/html": [
              "<table>\n",
              "    <thead>\n",
              "        <tr>\n",
              "            <th>name</th>\n",
              "            <th>transcript</th>\n",
              "        </tr>\n",
              "    </thead>\n",
              "    <tbody>\n",
              "        <tr>\n",
              "            <td>Jeremy Bowers</td>\n",
              "            <td>I was hired by a woman with a lot of money. I don&#x27;t know her name but I know she&#x27;s around 5&#x27;5&quot; (65&quot;) or 5&#x27;7&quot; (67&quot;). She has red hair and she drives a Tesla Model S. I know that she attended the SQL Symphony Concert 3 times in December 2017.<br></td>\n",
              "        </tr>\n",
              "    </tbody>\n",
              "</table>"
            ]
          },
          "metadata": {},
          "execution_count": 22
        }
      ]
    },
    {
      "cell_type": "markdown",
      "source": [
        "## Step 6\n",
        "\n",
        "Given the statement of Mr. Jeremy Bowers, these are the clues that will lead to the perpetrator.\n",
        "- Woman\n",
        "- A lot of money (Annual Income)\n",
        "- 5'5\" — 5'7\"\n",
        "- Red hair\n",
        "- Drives a Tesla Model S\n",
        "- Attended SQL Symphony Concert 3 times, December 2017\n",
        "\n",
        "I will try to create an SQL query that will relate to the statement using a single query."
      ],
      "metadata": {
        "id": "h4R9qwr74j0B"
      }
    },
    {
      "cell_type": "code",
      "source": [
        "%%sql\n",
        "SELECT person.name, inc.annual_income,drivlic.height,\n",
        "drivlic.car_make || ' ' || drivlic.car_model AS 'Car Make and Model',\n",
        "  fbcheckin.event_name AS 'Event Name' FROM person\n",
        "INNER JOIN drivers_license AS drivlic\n",
        "ON person.license_id = drivlic.id\n",
        "INNER JOIN income AS inc\n",
        "ON person.ssn = inc.ssn\n",
        "INNER JOIN facebook_event_checkin AS fbcheckin\n",
        "ON fbcheckin.person_id = person.id\n",
        "WHERE drivlic.hair_color = 'red'\n",
        " AND drivlic.gender = 'female'\n",
        " AND drivlic.car_make LIKE 'Tesla%'\n",
        " AND drivlic.car_model LIKE '%Model S%'\n",
        " AND drivlic.height BETWEEN 65 AND 67\n",
        " AND fbcheckin.date LIKE '201712%'\n",
        " AND fbcheckin.event_name = 'SQL Symphony Concert'\n",
        "GROUP BY person.name\n",
        "HAVING COUNT(fbcheckin.person_id) <= 3"
      ],
      "metadata": {
        "colab": {
          "base_uri": "https://localhost:8080/",
          "height": 114
        },
        "id": "z-9RWh5O4bQ7",
        "outputId": "4ae42be0-5e29-4ffb-fe55-9651b4db45ae"
      },
      "execution_count": 24,
      "outputs": [
        {
          "output_type": "stream",
          "name": "stdout",
          "text": [
            "   sqlite://\n",
            " * sqlite:///sql-murder-mystery.db\n",
            "Done.\n"
          ]
        },
        {
          "output_type": "execute_result",
          "data": {
            "text/plain": [
              "[('Miranda Priestly', 310000, 66, 'Tesla Model S', 'SQL Symphony Concert')]"
            ],
            "text/html": [
              "<table>\n",
              "    <thead>\n",
              "        <tr>\n",
              "            <th>name</th>\n",
              "            <th>annual_income</th>\n",
              "            <th>height</th>\n",
              "            <th>Car Make and Model</th>\n",
              "            <th>Event Name</th>\n",
              "        </tr>\n",
              "    </thead>\n",
              "    <tbody>\n",
              "        <tr>\n",
              "            <td>Miranda Priestly</td>\n",
              "            <td>310000</td>\n",
              "            <td>66</td>\n",
              "            <td>Tesla Model S</td>\n",
              "            <td>SQL Symphony Concert</td>\n",
              "        </tr>\n",
              "    </tbody>\n",
              "</table>"
            ]
          },
          "metadata": {},
          "execution_count": 24
        }
      ]
    },
    {
      "cell_type": "markdown",
      "source": [
        "Let’s check if our perpetrator is correct.\n",
        "\n",
        "![Check-your-solution](https://raw.githubusercontent.com/diogo-costa-silva/sql-murder-mystery/main/images/check_your_solution_2.png)"
      ],
      "metadata": {
        "id": "60xRIztbCelM"
      }
    }
  ]
}