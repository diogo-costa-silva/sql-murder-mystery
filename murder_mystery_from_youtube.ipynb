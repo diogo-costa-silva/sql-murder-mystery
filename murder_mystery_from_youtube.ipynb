{
  "nbformat": 4,
  "nbformat_minor": 0,
  "metadata": {
    "colab": {
      "provenance": [],
      "authorship_tag": "ABX9TyOXjmtUL1cXe2Fb/yd3w1db",
      "include_colab_link": true
    },
    "kernelspec": {
      "name": "python3",
      "display_name": "Python 3"
    },
    "language_info": {
      "name": "python"
    }
  },
  "cells": [
    {
      "cell_type": "markdown",
      "metadata": {
        "id": "view-in-github",
        "colab_type": "text"
      },
      "source": [
        "<a href=\"https://colab.research.google.com/github/diogo-costa-silva/sql-murder-mystery/blob/main/murder_mystery_from_youtube.ipynb\" target=\"_parent\"><img src=\"https://colab.research.google.com/assets/colab-badge.svg\" alt=\"Open In Colab\"/></a>"
      ]
    },
    {
      "cell_type": "code",
      "execution_count": 2,
      "metadata": {
        "colab": {
          "base_uri": "https://localhost:8080/"
        },
        "id": "1acbob_I1-Z-",
        "outputId": "d8623163-f153-4a7b-fb54-17a745c84472"
      },
      "outputs": [
        {
          "output_type": "stream",
          "name": "stdout",
          "text": [
            "--2024-02-21 13:26:26--  https://github.com/diogo-costa-silva/assets/raw/main/databases/sql-murder-mystery.db\n",
            "Resolving github.com (github.com)... 140.82.114.4\n",
            "Connecting to github.com (github.com)|140.82.114.4|:443... connected.\n",
            "HTTP request sent, awaiting response... 302 Found\n",
            "Location: https://raw.githubusercontent.com/diogo-costa-silva/assets/main/databases/sql-murder-mystery.db [following]\n",
            "--2024-02-21 13:26:27--  https://raw.githubusercontent.com/diogo-costa-silva/assets/main/databases/sql-murder-mystery.db\n",
            "Resolving raw.githubusercontent.com (raw.githubusercontent.com)... 185.199.108.133, 185.199.109.133, 185.199.110.133, ...\n",
            "Connecting to raw.githubusercontent.com (raw.githubusercontent.com)|185.199.108.133|:443... connected.\n",
            "HTTP request sent, awaiting response... 200 OK\n",
            "Length: 3661824 (3.5M) [application/octet-stream]\n",
            "Saving to: ‘sql-murder-mystery.db’\n",
            "\n",
            "sql-murder-mystery. 100%[===================>]   3.49M  --.-KB/s    in 0.09s   \n",
            "\n",
            "2024-02-21 13:26:28 (38.9 MB/s) - ‘sql-murder-mystery.db’ saved [3661824/3661824]\n",
            "\n"
          ]
        }
      ],
      "source": [
        "# getting the database from my github\n",
        "!wget https://github.com/diogo-costa-silva/assets/raw/main/databases/sql-murder-mystery.db -O sql-murder-mystery.db"
      ]
    },
    {
      "cell_type": "code",
      "source": [
        "# Load the SQL extension\n",
        "%load_ext sql"
      ],
      "metadata": {
        "id": "xNBfJyyF2DtA"
      },
      "execution_count": 1,
      "outputs": []
    },
    {
      "cell_type": "code",
      "source": [
        "# Create a SQLite database\n",
        "%sql sqlite:///sql-murder-mystery.db"
      ],
      "metadata": {
        "id": "vuzgn40N2EP9"
      },
      "execution_count": 3,
      "outputs": []
    },
    {
      "cell_type": "markdown",
      "source": [
        "## 1.Initial Clues:\n",
        "\n",
        "- murder that occurred sometime on Jan 15, 2018 (20180115)\n",
        "\n",
        "- and that it took place in SQL City"
      ],
      "metadata": {
        "id": "gONBE4cS3ycY"
      }
    },
    {
      "cell_type": "code",
      "source": [
        "%%sql\n",
        "SELECT *\n",
        "FROM crime_scene_report\n",
        "WHERE type=\"murder\"\n",
        "AND city=\"SQL City\"\n",
        "-- AND date=\"Jan.15, 2018\"\n",
        "AND date=20180115"
      ],
      "metadata": {
        "colab": {
          "base_uri": "https://localhost:8080/",
          "height": 131
        },
        "id": "rFKx89TR2KDk",
        "outputId": "f0090d8f-846a-470e-b1f7-f4759918bedf"
      },
      "execution_count": 4,
      "outputs": [
        {
          "output_type": "stream",
          "name": "stdout",
          "text": [
            " * sqlite:///sql-murder-mystery.db\n",
            "Done.\n"
          ]
        },
        {
          "output_type": "execute_result",
          "data": {
            "text/plain": [
              "[(20180115, 'murder', 'Security footage shows that there were 2 witnesses. The first witness lives at the last house on \"Northwestern Dr\". The second witness, named Annabel, lives somewhere on \"Franklin Ave\".', 'SQL City')]"
            ],
            "text/html": [
              "<table>\n",
              "    <thead>\n",
              "        <tr>\n",
              "            <th>date</th>\n",
              "            <th>type</th>\n",
              "            <th>description</th>\n",
              "            <th>city</th>\n",
              "        </tr>\n",
              "    </thead>\n",
              "    <tbody>\n",
              "        <tr>\n",
              "            <td>20180115</td>\n",
              "            <td>murder</td>\n",
              "            <td>Security footage shows that there were 2 witnesses. The first witness lives at the last house on &quot;Northwestern Dr&quot;. The second witness, named Annabel, lives somewhere on &quot;Franklin Ave&quot;.</td>\n",
              "            <td>SQL City</td>\n",
              "        </tr>\n",
              "    </tbody>\n",
              "</table>"
            ]
          },
          "metadata": {},
          "execution_count": 4
        }
      ]
    },
    {
      "cell_type": "markdown",
      "source": [
        "## 2. Security footage shows 2 witnesses\n",
        "\n",
        "- 1st - lives at the last house on \"Northwestern Dr\"\n",
        "\n",
        "- 2nd - Annabel, lives somewhere on \"Franklin Ave\""
      ],
      "metadata": {
        "id": "yE-bz9lm4DJC"
      }
    },
    {
      "cell_type": "code",
      "source": [
        "%%sql\n",
        "SELECT *\n",
        "FROM person\n",
        "WHERE address_street_name=\"Northwestern Dr\"\n",
        "ORDER BY address_number DESC\n",
        "LIMIT 1"
      ],
      "metadata": {
        "colab": {
          "base_uri": "https://localhost:8080/",
          "height": 96
        },
        "id": "NU6SIiHf3_GE",
        "outputId": "d2109fff-6934-41fd-fbc2-c2c9bcee8f0f"
      },
      "execution_count": 5,
      "outputs": [
        {
          "output_type": "stream",
          "name": "stdout",
          "text": [
            " * sqlite:///sql-murder-mystery.db\n",
            "Done.\n"
          ]
        },
        {
          "output_type": "execute_result",
          "data": {
            "text/plain": [
              "[(14887, 'Morty Schapiro', 118009, 4919, 'Northwestern Dr', '111564949')]"
            ],
            "text/html": [
              "<table>\n",
              "    <thead>\n",
              "        <tr>\n",
              "            <th>id</th>\n",
              "            <th>name</th>\n",
              "            <th>license_id</th>\n",
              "            <th>address_number</th>\n",
              "            <th>address_street_name</th>\n",
              "            <th>ssn</th>\n",
              "        </tr>\n",
              "    </thead>\n",
              "    <tbody>\n",
              "        <tr>\n",
              "            <td>14887</td>\n",
              "            <td>Morty Schapiro</td>\n",
              "            <td>118009</td>\n",
              "            <td>4919</td>\n",
              "            <td>Northwestern Dr</td>\n",
              "            <td>111564949</td>\n",
              "        </tr>\n",
              "    </tbody>\n",
              "</table>"
            ]
          },
          "metadata": {},
          "execution_count": 5
        }
      ]
    },
    {
      "cell_type": "markdown",
      "source": [
        "## 3. 1st witness is Morty Schapiro with id 14887"
      ],
      "metadata": {
        "id": "VdHL-sEH4Q4X"
      }
    },
    {
      "cell_type": "code",
      "source": [
        "%%sql\n",
        "\n",
        "SELECT *\n",
        "FROM person\n",
        "WHERE address_street_name=\"Franklin Ave\"\n",
        "AND name LIKE \"%Annabel%\"\n",
        "LIMIT 10"
      ],
      "metadata": {
        "colab": {
          "base_uri": "https://localhost:8080/",
          "height": 96
        },
        "id": "dCcBsdJ44Jjj",
        "outputId": "cd422a77-c340-4109-f04e-03552b3658a7"
      },
      "execution_count": 6,
      "outputs": [
        {
          "output_type": "stream",
          "name": "stdout",
          "text": [
            " * sqlite:///sql-murder-mystery.db\n",
            "Done.\n"
          ]
        },
        {
          "output_type": "execute_result",
          "data": {
            "text/plain": [
              "[(16371, 'Annabel Miller', 490173, 103, 'Franklin Ave', '318771143')]"
            ],
            "text/html": [
              "<table>\n",
              "    <thead>\n",
              "        <tr>\n",
              "            <th>id</th>\n",
              "            <th>name</th>\n",
              "            <th>license_id</th>\n",
              "            <th>address_number</th>\n",
              "            <th>address_street_name</th>\n",
              "            <th>ssn</th>\n",
              "        </tr>\n",
              "    </thead>\n",
              "    <tbody>\n",
              "        <tr>\n",
              "            <td>16371</td>\n",
              "            <td>Annabel Miller</td>\n",
              "            <td>490173</td>\n",
              "            <td>103</td>\n",
              "            <td>Franklin Ave</td>\n",
              "            <td>318771143</td>\n",
              "        </tr>\n",
              "    </tbody>\n",
              "</table>"
            ]
          },
          "metadata": {},
          "execution_count": 6
        }
      ]
    },
    {
      "cell_type": "markdown",
      "source": [
        "## 4. 2nd witness is Annabel Miller with id 16371\n"
      ],
      "metadata": {
        "id": "A_-DS4Ef4Yg_"
      }
    },
    {
      "cell_type": "code",
      "source": [
        "%%sql\n",
        "\n",
        "SELECT *\n",
        "FROM person\n",
        "WHERE id IN (14887, 16371)\n",
        "LIMIT 10"
      ],
      "metadata": {
        "colab": {
          "base_uri": "https://localhost:8080/",
          "height": 118
        },
        "id": "Qw4_sZeH4XJr",
        "outputId": "7dea5724-336d-4def-c947-3bfcc67df0c0"
      },
      "execution_count": 7,
      "outputs": [
        {
          "output_type": "stream",
          "name": "stdout",
          "text": [
            " * sqlite:///sql-murder-mystery.db\n",
            "Done.\n"
          ]
        },
        {
          "output_type": "execute_result",
          "data": {
            "text/plain": [
              "[(14887, 'Morty Schapiro', 118009, 4919, 'Northwestern Dr', '111564949'),\n",
              " (16371, 'Annabel Miller', 490173, 103, 'Franklin Ave', '318771143')]"
            ],
            "text/html": [
              "<table>\n",
              "    <thead>\n",
              "        <tr>\n",
              "            <th>id</th>\n",
              "            <th>name</th>\n",
              "            <th>license_id</th>\n",
              "            <th>address_number</th>\n",
              "            <th>address_street_name</th>\n",
              "            <th>ssn</th>\n",
              "        </tr>\n",
              "    </thead>\n",
              "    <tbody>\n",
              "        <tr>\n",
              "            <td>14887</td>\n",
              "            <td>Morty Schapiro</td>\n",
              "            <td>118009</td>\n",
              "            <td>4919</td>\n",
              "            <td>Northwestern Dr</td>\n",
              "            <td>111564949</td>\n",
              "        </tr>\n",
              "        <tr>\n",
              "            <td>16371</td>\n",
              "            <td>Annabel Miller</td>\n",
              "            <td>490173</td>\n",
              "            <td>103</td>\n",
              "            <td>Franklin Ave</td>\n",
              "            <td>318771143</td>\n",
              "        </tr>\n",
              "    </tbody>\n",
              "</table>"
            ]
          },
          "metadata": {},
          "execution_count": 7
        }
      ]
    },
    {
      "cell_type": "code",
      "source": [
        "%%sql\n",
        "\n",
        "SELECT *\n",
        "FROM interview\n",
        "WHERE person_id IN (14887, 16371)\n",
        "LIMIT 10"
      ],
      "metadata": {
        "colab": {
          "base_uri": "https://localhost:8080/",
          "height": 170
        },
        "id": "yBmDfh4e5JvI",
        "outputId": "d74e351e-67e7-40cd-8c38-7fa42a05f14b"
      },
      "execution_count": 8,
      "outputs": [
        {
          "output_type": "stream",
          "name": "stdout",
          "text": [
            " * sqlite:///sql-murder-mystery.db\n",
            "Done.\n"
          ]
        },
        {
          "output_type": "execute_result",
          "data": {
            "text/plain": [
              "[(14887, 'I heard a gunshot and then saw a man run out. He had a \"Get Fit Now Gym\" bag. The membership number on the bag started with \"48Z\". Only gold members have those bags. The man got into a car with a plate that included \"H42W\".'),\n",
              " (16371, 'I saw the murder happen, and I recognized the killer from my gym when I was working out last week on January the 9th.')]"
            ],
            "text/html": [
              "<table>\n",
              "    <thead>\n",
              "        <tr>\n",
              "            <th>person_id</th>\n",
              "            <th>transcript</th>\n",
              "        </tr>\n",
              "    </thead>\n",
              "    <tbody>\n",
              "        <tr>\n",
              "            <td>14887</td>\n",
              "            <td>I heard a gunshot and then saw a man run out. He had a &quot;Get Fit Now Gym&quot; bag. The membership number on the bag started with &quot;48Z&quot;. Only gold members have those bags. The man got into a car with a plate that included &quot;H42W&quot;.</td>\n",
              "        </tr>\n",
              "        <tr>\n",
              "            <td>16371</td>\n",
              "            <td>I saw the murder happen, and I recognized the killer from my gym when I was working out last week on January the 9th.</td>\n",
              "        </tr>\n",
              "    </tbody>\n",
              "</table>"
            ]
          },
          "metadata": {},
          "execution_count": 8
        }
      ]
    },
    {
      "cell_type": "markdown",
      "source": [
        "## 5. Found some transcripts:\n",
        "\n",
        "- Morty: \"Get Fit Now Gym\" bag started with \"48Z\" - gold member\n",
        "- car with a plate that included \"H42W\"\n",
        "- Annabel: recognized the killer from her gym last week on January the 9th"
      ],
      "metadata": {
        "id": "1l4Ssfx15X08"
      }
    },
    {
      "cell_type": "code",
      "source": [
        "%%sql\n",
        "\n",
        "SELECT *\n",
        "FROM drivers_license\n",
        "WHERE plate_number LIKE \"%H42W%\"\n",
        "LIMIT 10"
      ],
      "metadata": {
        "colab": {
          "base_uri": "https://localhost:8080/",
          "height": 139
        },
        "id": "MVQiAuA45MyY",
        "outputId": "c42ce346-cc15-4949-f006-e2730a2a4102"
      },
      "execution_count": 9,
      "outputs": [
        {
          "output_type": "stream",
          "name": "stdout",
          "text": [
            " * sqlite:///sql-murder-mystery.db\n",
            "Done.\n"
          ]
        },
        {
          "output_type": "execute_result",
          "data": {
            "text/plain": [
              "[(183779, 21, 65, 'blue', 'blonde', 'female', 'H42W0X', 'Toyota', 'Prius'),\n",
              " (423327, 30, 70, 'brown', 'brown', 'male', '0H42W2', 'Chevrolet', 'Spark LS'),\n",
              " (664760, 21, 71, 'black', 'black', 'male', '4H42WR', 'Nissan', 'Altima')]"
            ],
            "text/html": [
              "<table>\n",
              "    <thead>\n",
              "        <tr>\n",
              "            <th>id</th>\n",
              "            <th>age</th>\n",
              "            <th>height</th>\n",
              "            <th>eye_color</th>\n",
              "            <th>hair_color</th>\n",
              "            <th>gender</th>\n",
              "            <th>plate_number</th>\n",
              "            <th>car_make</th>\n",
              "            <th>car_model</th>\n",
              "        </tr>\n",
              "    </thead>\n",
              "    <tbody>\n",
              "        <tr>\n",
              "            <td>183779</td>\n",
              "            <td>21</td>\n",
              "            <td>65</td>\n",
              "            <td>blue</td>\n",
              "            <td>blonde</td>\n",
              "            <td>female</td>\n",
              "            <td>H42W0X</td>\n",
              "            <td>Toyota</td>\n",
              "            <td>Prius</td>\n",
              "        </tr>\n",
              "        <tr>\n",
              "            <td>423327</td>\n",
              "            <td>30</td>\n",
              "            <td>70</td>\n",
              "            <td>brown</td>\n",
              "            <td>brown</td>\n",
              "            <td>male</td>\n",
              "            <td>0H42W2</td>\n",
              "            <td>Chevrolet</td>\n",
              "            <td>Spark LS</td>\n",
              "        </tr>\n",
              "        <tr>\n",
              "            <td>664760</td>\n",
              "            <td>21</td>\n",
              "            <td>71</td>\n",
              "            <td>black</td>\n",
              "            <td>black</td>\n",
              "            <td>male</td>\n",
              "            <td>4H42WR</td>\n",
              "            <td>Nissan</td>\n",
              "            <td>Altima</td>\n",
              "        </tr>\n",
              "    </tbody>\n",
              "</table>"
            ]
          },
          "metadata": {},
          "execution_count": 9
        }
      ]
    },
    {
      "cell_type": "code",
      "source": [
        "%%sql\n",
        "\n",
        "SELECT *\n",
        "FROM drivers_license AS dl\n",
        "INNER JOIN person AS p on dl.id = p.license_id\n",
        "WHERE plate_number LIKE \"%H42W%\"\n",
        "LIMIT 10"
      ],
      "metadata": {
        "colab": {
          "base_uri": "https://localhost:8080/",
          "height": 211
        },
        "id": "0IbsJWCI5eCc",
        "outputId": "e7d12bf7-a990-40d9-9a97-adacd2e30151"
      },
      "execution_count": 10,
      "outputs": [
        {
          "output_type": "stream",
          "name": "stdout",
          "text": [
            " * sqlite:///sql-murder-mystery.db\n",
            "Done.\n"
          ]
        },
        {
          "output_type": "execute_result",
          "data": {
            "text/plain": [
              "[(664760, 21, 71, 'black', 'black', 'male', '4H42WR', 'Nissan', 'Altima', 51739, 'Tushar Chandra', 664760, 312, 'Phi St', '137882671'),\n",
              " (423327, 30, 70, 'brown', 'brown', 'male', '0H42W2', 'Chevrolet', 'Spark LS', 67318, 'Jeremy Bowers', 423327, 530, 'Washington Pl, Apt 3A', '871539279'),\n",
              " (183779, 21, 65, 'blue', 'blonde', 'female', 'H42W0X', 'Toyota', 'Prius', 78193, 'Maxine Whitely', 183779, 110, 'Fisk Rd', '137882671')]"
            ],
            "text/html": [
              "<table>\n",
              "    <thead>\n",
              "        <tr>\n",
              "            <th>id</th>\n",
              "            <th>age</th>\n",
              "            <th>height</th>\n",
              "            <th>eye_color</th>\n",
              "            <th>hair_color</th>\n",
              "            <th>gender</th>\n",
              "            <th>plate_number</th>\n",
              "            <th>car_make</th>\n",
              "            <th>car_model</th>\n",
              "            <th>id_1</th>\n",
              "            <th>name</th>\n",
              "            <th>license_id</th>\n",
              "            <th>address_number</th>\n",
              "            <th>address_street_name</th>\n",
              "            <th>ssn</th>\n",
              "        </tr>\n",
              "    </thead>\n",
              "    <tbody>\n",
              "        <tr>\n",
              "            <td>664760</td>\n",
              "            <td>21</td>\n",
              "            <td>71</td>\n",
              "            <td>black</td>\n",
              "            <td>black</td>\n",
              "            <td>male</td>\n",
              "            <td>4H42WR</td>\n",
              "            <td>Nissan</td>\n",
              "            <td>Altima</td>\n",
              "            <td>51739</td>\n",
              "            <td>Tushar Chandra</td>\n",
              "            <td>664760</td>\n",
              "            <td>312</td>\n",
              "            <td>Phi St</td>\n",
              "            <td>137882671</td>\n",
              "        </tr>\n",
              "        <tr>\n",
              "            <td>423327</td>\n",
              "            <td>30</td>\n",
              "            <td>70</td>\n",
              "            <td>brown</td>\n",
              "            <td>brown</td>\n",
              "            <td>male</td>\n",
              "            <td>0H42W2</td>\n",
              "            <td>Chevrolet</td>\n",
              "            <td>Spark LS</td>\n",
              "            <td>67318</td>\n",
              "            <td>Jeremy Bowers</td>\n",
              "            <td>423327</td>\n",
              "            <td>530</td>\n",
              "            <td>Washington Pl, Apt 3A</td>\n",
              "            <td>871539279</td>\n",
              "        </tr>\n",
              "        <tr>\n",
              "            <td>183779</td>\n",
              "            <td>21</td>\n",
              "            <td>65</td>\n",
              "            <td>blue</td>\n",
              "            <td>blonde</td>\n",
              "            <td>female</td>\n",
              "            <td>H42W0X</td>\n",
              "            <td>Toyota</td>\n",
              "            <td>Prius</td>\n",
              "            <td>78193</td>\n",
              "            <td>Maxine Whitely</td>\n",
              "            <td>183779</td>\n",
              "            <td>110</td>\n",
              "            <td>Fisk Rd</td>\n",
              "            <td>137882671</td>\n",
              "        </tr>\n",
              "    </tbody>\n",
              "</table>"
            ]
          },
          "metadata": {},
          "execution_count": 10
        }
      ]
    },
    {
      "cell_type": "code",
      "source": [
        "%%sql\n",
        "\n",
        "SELECT p.*, gf.*\n",
        "FROM drivers_license AS dl\n",
        "INNER JOIN person AS p on dl.id = p.license_id\n",
        "INNER JOIN get_fit_now_member as gf on p.id = gf.person_id\n",
        "WHERE plate_number LIKE \"%H42W%\"\n",
        "LIMIT 10"
      ],
      "metadata": {
        "colab": {
          "base_uri": "https://localhost:8080/",
          "height": 134
        },
        "id": "zIG3FXOL5_pD",
        "outputId": "9ba6c15f-34c2-4670-81f1-d12445d2a9b1"
      },
      "execution_count": 11,
      "outputs": [
        {
          "output_type": "stream",
          "name": "stdout",
          "text": [
            " * sqlite:///sql-murder-mystery.db\n",
            "Done.\n"
          ]
        },
        {
          "output_type": "execute_result",
          "data": {
            "text/plain": [
              "[(67318, 'Jeremy Bowers', 423327, 530, 'Washington Pl, Apt 3A', '871539279', '48Z55', 67318, 'Jeremy Bowers', 20160101, 'gold')]"
            ],
            "text/html": [
              "<table>\n",
              "    <thead>\n",
              "        <tr>\n",
              "            <th>id</th>\n",
              "            <th>name</th>\n",
              "            <th>license_id</th>\n",
              "            <th>address_number</th>\n",
              "            <th>address_street_name</th>\n",
              "            <th>ssn</th>\n",
              "            <th>id_1</th>\n",
              "            <th>person_id</th>\n",
              "            <th>name_1</th>\n",
              "            <th>membership_start_date</th>\n",
              "            <th>membership_status</th>\n",
              "        </tr>\n",
              "    </thead>\n",
              "    <tbody>\n",
              "        <tr>\n",
              "            <td>67318</td>\n",
              "            <td>Jeremy Bowers</td>\n",
              "            <td>423327</td>\n",
              "            <td>530</td>\n",
              "            <td>Washington Pl, Apt 3A</td>\n",
              "            <td>871539279</td>\n",
              "            <td>48Z55</td>\n",
              "            <td>67318</td>\n",
              "            <td>Jeremy Bowers</td>\n",
              "            <td>20160101</td>\n",
              "            <td>gold</td>\n",
              "        </tr>\n",
              "    </tbody>\n",
              "</table>"
            ]
          },
          "metadata": {},
          "execution_count": 11
        }
      ]
    },
    {
      "cell_type": "code",
      "source": [
        "%%sql\n",
        "\n",
        "SELECT p.*, gf.*\n",
        "FROM drivers_license AS dl\n",
        "INNER JOIN person AS p on dl.id = p.license_id\n",
        "INNER JOIN get_fit_now_member as gf on p.id = gf.person_id\n",
        "WHERE plate_number LIKE \"%H42W%\"\n",
        "AND membership_status = \"gold\"\n",
        "LIMIT 10"
      ],
      "metadata": {
        "colab": {
          "base_uri": "https://localhost:8080/",
          "height": 134
        },
        "id": "xPUUUtIw6CAK",
        "outputId": "a6de860d-1ed9-46b4-f9f8-37c63f105b87"
      },
      "execution_count": 12,
      "outputs": [
        {
          "output_type": "stream",
          "name": "stdout",
          "text": [
            " * sqlite:///sql-murder-mystery.db\n",
            "Done.\n"
          ]
        },
        {
          "output_type": "execute_result",
          "data": {
            "text/plain": [
              "[(67318, 'Jeremy Bowers', 423327, 530, 'Washington Pl, Apt 3A', '871539279', '48Z55', 67318, 'Jeremy Bowers', 20160101, 'gold')]"
            ],
            "text/html": [
              "<table>\n",
              "    <thead>\n",
              "        <tr>\n",
              "            <th>id</th>\n",
              "            <th>name</th>\n",
              "            <th>license_id</th>\n",
              "            <th>address_number</th>\n",
              "            <th>address_street_name</th>\n",
              "            <th>ssn</th>\n",
              "            <th>id_1</th>\n",
              "            <th>person_id</th>\n",
              "            <th>name_1</th>\n",
              "            <th>membership_start_date</th>\n",
              "            <th>membership_status</th>\n",
              "        </tr>\n",
              "    </thead>\n",
              "    <tbody>\n",
              "        <tr>\n",
              "            <td>67318</td>\n",
              "            <td>Jeremy Bowers</td>\n",
              "            <td>423327</td>\n",
              "            <td>530</td>\n",
              "            <td>Washington Pl, Apt 3A</td>\n",
              "            <td>871539279</td>\n",
              "            <td>48Z55</td>\n",
              "            <td>67318</td>\n",
              "            <td>Jeremy Bowers</td>\n",
              "            <td>20160101</td>\n",
              "            <td>gold</td>\n",
              "        </tr>\n",
              "    </tbody>\n",
              "</table>"
            ]
          },
          "metadata": {},
          "execution_count": 12
        }
      ]
    },
    {
      "cell_type": "code",
      "source": [
        "%%sql\n",
        "\n",
        "SELECT p.*, ci.*\n",
        "FROM drivers_license AS dl\n",
        "INNER JOIN person AS p on dl.id = p.license_id\n",
        "INNER JOIN get_fit_now_member as gf on p.id = gf.person_id\n",
        "INNER JOIN get_fit_now_check_in as ci on gf.id=ci.membership_id\n",
        "WHERE plate_number LIKE \"%H42W%\"\n",
        "AND membership_status = \"gold\"\n",
        "LIMIT 10"
      ],
      "metadata": {
        "colab": {
          "base_uri": "https://localhost:8080/",
          "height": 134
        },
        "id": "WnJvBGrm6EgA",
        "outputId": "5118537e-0fcd-4fc5-9dc8-5ce60393d61d"
      },
      "execution_count": 13,
      "outputs": [
        {
          "output_type": "stream",
          "name": "stdout",
          "text": [
            " * sqlite:///sql-murder-mystery.db\n",
            "Done.\n"
          ]
        },
        {
          "output_type": "execute_result",
          "data": {
            "text/plain": [
              "[(67318, 'Jeremy Bowers', 423327, 530, 'Washington Pl, Apt 3A', '871539279', '48Z55', 20180109, 1530, 1700)]"
            ],
            "text/html": [
              "<table>\n",
              "    <thead>\n",
              "        <tr>\n",
              "            <th>id</th>\n",
              "            <th>name</th>\n",
              "            <th>license_id</th>\n",
              "            <th>address_number</th>\n",
              "            <th>address_street_name</th>\n",
              "            <th>ssn</th>\n",
              "            <th>membership_id</th>\n",
              "            <th>check_in_date</th>\n",
              "            <th>check_in_time</th>\n",
              "            <th>check_out_time</th>\n",
              "        </tr>\n",
              "    </thead>\n",
              "    <tbody>\n",
              "        <tr>\n",
              "            <td>67318</td>\n",
              "            <td>Jeremy Bowers</td>\n",
              "            <td>423327</td>\n",
              "            <td>530</td>\n",
              "            <td>Washington Pl, Apt 3A</td>\n",
              "            <td>871539279</td>\n",
              "            <td>48Z55</td>\n",
              "            <td>20180109</td>\n",
              "            <td>1530</td>\n",
              "            <td>1700</td>\n",
              "        </tr>\n",
              "    </tbody>\n",
              "</table>"
            ]
          },
          "metadata": {},
          "execution_count": 13
        }
      ]
    },
    {
      "cell_type": "code",
      "source": [
        "%%sql\n",
        "\n",
        "SELECT p.*, ci.*\n",
        "FROM drivers_license AS dl\n",
        "INNER JOIN person AS p on dl.id = p.license_id\n",
        "INNER JOIN get_fit_now_member as gf on p.id = gf.person_id\n",
        "INNER JOIN get_fit_now_check_in as ci on gf.id=ci.membership_id\n",
        "WHERE plate_number LIKE \"%H42W%\"\n",
        "AND membership_status = \"gold\"\n",
        "AND check_in_date = 20180109\n",
        "LIMIT 10"
      ],
      "metadata": {
        "colab": {
          "base_uri": "https://localhost:8080/",
          "height": 134
        },
        "id": "0OIze5iZ6JoT",
        "outputId": "2fae5118-7b96-404c-90a2-737dd8e04261"
      },
      "execution_count": 14,
      "outputs": [
        {
          "output_type": "stream",
          "name": "stdout",
          "text": [
            " * sqlite:///sql-murder-mystery.db\n",
            "Done.\n"
          ]
        },
        {
          "output_type": "execute_result",
          "data": {
            "text/plain": [
              "[(67318, 'Jeremy Bowers', 423327, 530, 'Washington Pl, Apt 3A', '871539279', '48Z55', 20180109, 1530, 1700)]"
            ],
            "text/html": [
              "<table>\n",
              "    <thead>\n",
              "        <tr>\n",
              "            <th>id</th>\n",
              "            <th>name</th>\n",
              "            <th>license_id</th>\n",
              "            <th>address_number</th>\n",
              "            <th>address_street_name</th>\n",
              "            <th>ssn</th>\n",
              "            <th>membership_id</th>\n",
              "            <th>check_in_date</th>\n",
              "            <th>check_in_time</th>\n",
              "            <th>check_out_time</th>\n",
              "        </tr>\n",
              "    </thead>\n",
              "    <tbody>\n",
              "        <tr>\n",
              "            <td>67318</td>\n",
              "            <td>Jeremy Bowers</td>\n",
              "            <td>423327</td>\n",
              "            <td>530</td>\n",
              "            <td>Washington Pl, Apt 3A</td>\n",
              "            <td>871539279</td>\n",
              "            <td>48Z55</td>\n",
              "            <td>20180109</td>\n",
              "            <td>1530</td>\n",
              "            <td>1700</td>\n",
              "        </tr>\n",
              "    </tbody>\n",
              "</table>"
            ]
          },
          "metadata": {},
          "execution_count": 14
        }
      ]
    },
    {
      "cell_type": "markdown",
      "source": [
        "## 6. Let's see if the killer is Jeremy Bowers\n",
        "\n",
        "`INSERT INTO solution VALUES (1, 'Jeremy Bowers');`\n",
        "\n",
        "`SELECT value FROM solution;`\n",
        "\n",
        "\n",
        "## 7. Yes it is! But there is a Mastermind behind all this!"
      ],
      "metadata": {
        "id": "O7ErRiMZ6bFw"
      }
    },
    {
      "cell_type": "code",
      "source": [
        "%%sql\n",
        "\n",
        "SELECT *\n",
        "FROM interview\n",
        "WHERE person_id=67318"
      ],
      "metadata": {
        "colab": {
          "base_uri": "https://localhost:8080/",
          "height": 131
        },
        "id": "vdd5MFQ46MLq",
        "outputId": "9f3dd392-4683-475e-a515-fc75e63b5742"
      },
      "execution_count": 15,
      "outputs": [
        {
          "output_type": "stream",
          "name": "stdout",
          "text": [
            " * sqlite:///sql-murder-mystery.db\n",
            "Done.\n"
          ]
        },
        {
          "output_type": "execute_result",
          "data": {
            "text/plain": [
              "[(67318, 'I was hired by a woman with a lot of money. I don\\'t know her name but I know she\\'s around 5\\'5\" (65\") or 5\\'7\" (67\"). She has red hair and she drives a Tesla Model S. I know that she attended the SQL Symphony Concert 3 times in December 2017.\\n')]"
            ],
            "text/html": [
              "<table>\n",
              "    <thead>\n",
              "        <tr>\n",
              "            <th>person_id</th>\n",
              "            <th>transcript</th>\n",
              "        </tr>\n",
              "    </thead>\n",
              "    <tbody>\n",
              "        <tr>\n",
              "            <td>67318</td>\n",
              "            <td>I was hired by a woman with a lot of money. I don&#x27;t know her name but I know she&#x27;s around 5&#x27;5&quot; (65&quot;) or 5&#x27;7&quot; (67&quot;). She has red hair and she drives a Tesla Model S. I know that she attended the SQL Symphony Concert 3 times in December 2017.<br></td>\n",
              "        </tr>\n",
              "    </tbody>\n",
              "</table>"
            ]
          },
          "metadata": {},
          "execution_count": 15
        }
      ]
    },
    {
      "cell_type": "markdown",
      "source": [
        "## 8. The transcript of Jeremy said the following:\n",
        "- hired by a woman with a lot of money\n",
        "-  5'5\" (65\") or 5'7\" (67\"), red hair, drives a Tesla Model S\n",
        "-  attended the SQL Symphony Concert 3 times in December 2017"
      ],
      "metadata": {
        "id": "Bun0K-Ue6xK5"
      }
    },
    {
      "cell_type": "code",
      "source": [
        "%%sql\n",
        "\n",
        "SELECT *\n",
        "FROM drivers_license\n",
        "WHERE hair_color = \"red\"\n",
        "AND height >= 65\n",
        "AND height <= 67\n",
        "AND car_make LIKE \"%tesla%\"\n",
        "AND car_model LIKE \"Model S\"\n",
        "AND gender = \"female\"\n",
        "LIMIT 100"
      ],
      "metadata": {
        "colab": {
          "base_uri": "https://localhost:8080/",
          "height": 139
        },
        "id": "bMIDuHqF6vYG",
        "outputId": "380a0cd9-9aab-4ba3-bb37-b34ec3c34735"
      },
      "execution_count": 16,
      "outputs": [
        {
          "output_type": "stream",
          "name": "stdout",
          "text": [
            " * sqlite:///sql-murder-mystery.db\n",
            "Done.\n"
          ]
        },
        {
          "output_type": "execute_result",
          "data": {
            "text/plain": [
              "[(202298, 68, 66, 'green', 'red', 'female', '500123', 'Tesla', 'Model S'),\n",
              " (291182, 65, 66, 'blue', 'red', 'female', '08CM64', 'Tesla', 'Model S'),\n",
              " (918773, 48, 65, 'black', 'red', 'female', '917UU3', 'Tesla', 'Model S')]"
            ],
            "text/html": [
              "<table>\n",
              "    <thead>\n",
              "        <tr>\n",
              "            <th>id</th>\n",
              "            <th>age</th>\n",
              "            <th>height</th>\n",
              "            <th>eye_color</th>\n",
              "            <th>hair_color</th>\n",
              "            <th>gender</th>\n",
              "            <th>plate_number</th>\n",
              "            <th>car_make</th>\n",
              "            <th>car_model</th>\n",
              "        </tr>\n",
              "    </thead>\n",
              "    <tbody>\n",
              "        <tr>\n",
              "            <td>202298</td>\n",
              "            <td>68</td>\n",
              "            <td>66</td>\n",
              "            <td>green</td>\n",
              "            <td>red</td>\n",
              "            <td>female</td>\n",
              "            <td>500123</td>\n",
              "            <td>Tesla</td>\n",
              "            <td>Model S</td>\n",
              "        </tr>\n",
              "        <tr>\n",
              "            <td>291182</td>\n",
              "            <td>65</td>\n",
              "            <td>66</td>\n",
              "            <td>blue</td>\n",
              "            <td>red</td>\n",
              "            <td>female</td>\n",
              "            <td>08CM64</td>\n",
              "            <td>Tesla</td>\n",
              "            <td>Model S</td>\n",
              "        </tr>\n",
              "        <tr>\n",
              "            <td>918773</td>\n",
              "            <td>48</td>\n",
              "            <td>65</td>\n",
              "            <td>black</td>\n",
              "            <td>red</td>\n",
              "            <td>female</td>\n",
              "            <td>917UU3</td>\n",
              "            <td>Tesla</td>\n",
              "            <td>Model S</td>\n",
              "        </tr>\n",
              "    </tbody>\n",
              "</table>"
            ]
          },
          "metadata": {},
          "execution_count": 16
        }
      ]
    },
    {
      "cell_type": "markdown",
      "source": [
        "## 9. There are still 3 people, so let's check the concert event\n"
      ],
      "metadata": {
        "id": "ue6E1Pol65pR"
      }
    },
    {
      "cell_type": "code",
      "source": [
        "%%sql\n",
        "\n",
        "SELECT p.*\n",
        "FROM drivers_license as dl\n",
        "INNER JOIN person as p on dl.id=p.license_id\n",
        "WHERE hair_color = \"red\"\n",
        "AND height >= 65\n",
        "AND height <= 67\n",
        "AND car_make LIKE \"%tesla%\"\n",
        "AND car_model LIKE \"Model S\"\n",
        "AND gender = \"female\"\n",
        "LIMIT 100"
      ],
      "metadata": {
        "colab": {
          "base_uri": "https://localhost:8080/",
          "height": 139
        },
        "id": "HwFzYoo564Gn",
        "outputId": "be30d8c7-dc03-4b39-d595-f9fcef33bbd2"
      },
      "execution_count": 17,
      "outputs": [
        {
          "output_type": "stream",
          "name": "stdout",
          "text": [
            " * sqlite:///sql-murder-mystery.db\n",
            "Done.\n"
          ]
        },
        {
          "output_type": "execute_result",
          "data": {
            "text/plain": [
              "[(78881, 'Red Korb', 918773, 107, 'Camerata Dr', '961388910'),\n",
              " (90700, 'Regina George', 291182, 332, 'Maple Ave', '337169072'),\n",
              " (99716, 'Miranda Priestly', 202298, 1883, 'Golden Ave', '987756388')]"
            ],
            "text/html": [
              "<table>\n",
              "    <thead>\n",
              "        <tr>\n",
              "            <th>id</th>\n",
              "            <th>name</th>\n",
              "            <th>license_id</th>\n",
              "            <th>address_number</th>\n",
              "            <th>address_street_name</th>\n",
              "            <th>ssn</th>\n",
              "        </tr>\n",
              "    </thead>\n",
              "    <tbody>\n",
              "        <tr>\n",
              "            <td>78881</td>\n",
              "            <td>Red Korb</td>\n",
              "            <td>918773</td>\n",
              "            <td>107</td>\n",
              "            <td>Camerata Dr</td>\n",
              "            <td>961388910</td>\n",
              "        </tr>\n",
              "        <tr>\n",
              "            <td>90700</td>\n",
              "            <td>Regina George</td>\n",
              "            <td>291182</td>\n",
              "            <td>332</td>\n",
              "            <td>Maple Ave</td>\n",
              "            <td>337169072</td>\n",
              "        </tr>\n",
              "        <tr>\n",
              "            <td>99716</td>\n",
              "            <td>Miranda Priestly</td>\n",
              "            <td>202298</td>\n",
              "            <td>1883</td>\n",
              "            <td>Golden Ave</td>\n",
              "            <td>987756388</td>\n",
              "        </tr>\n",
              "    </tbody>\n",
              "</table>"
            ]
          },
          "metadata": {},
          "execution_count": 17
        }
      ]
    },
    {
      "cell_type": "code",
      "source": [
        "%%sql\n",
        "\n",
        "SELECT p.*, fb.*\n",
        "FROM drivers_license as dl\n",
        "INNER JOIN person as p on dl.id=p.license_id\n",
        "INNER JOIN facebook_event_checkin as fb on fb.person_id=p.id\n",
        "WHERE hair_color = \"red\"\n",
        "AND height >= 65\n",
        "AND height <= 67\n",
        "AND car_make LIKE \"%tesla%\"\n",
        "AND car_model LIKE \"Model S\"\n",
        "AND gender = \"female\"\n",
        "LIMIT 100"
      ],
      "metadata": {
        "colab": {
          "base_uri": "https://localhost:8080/",
          "height": 263
        },
        "id": "mn9bi4jM6-4j",
        "outputId": "e860dd9e-aa4e-49d1-af06-494c4f49c8f6"
      },
      "execution_count": 18,
      "outputs": [
        {
          "output_type": "stream",
          "name": "stdout",
          "text": [
            " * sqlite:///sql-murder-mystery.db\n",
            "Done.\n"
          ]
        },
        {
          "output_type": "execute_result",
          "data": {
            "text/plain": [
              "[(99716, 'Miranda Priestly', 202298, 1883, 'Golden Ave', '987756388', 99716, 1143, 'SQL Symphony Concert', 20171206),\n",
              " (99716, 'Miranda Priestly', 202298, 1883, 'Golden Ave', '987756388', 99716, 1143, 'SQL Symphony Concert', 20171212),\n",
              " (99716, 'Miranda Priestly', 202298, 1883, 'Golden Ave', '987756388', 99716, 1143, 'SQL Symphony Concert', 20171229)]"
            ],
            "text/html": [
              "<table>\n",
              "    <thead>\n",
              "        <tr>\n",
              "            <th>id</th>\n",
              "            <th>name</th>\n",
              "            <th>license_id</th>\n",
              "            <th>address_number</th>\n",
              "            <th>address_street_name</th>\n",
              "            <th>ssn</th>\n",
              "            <th>person_id</th>\n",
              "            <th>event_id</th>\n",
              "            <th>event_name</th>\n",
              "            <th>date</th>\n",
              "        </tr>\n",
              "    </thead>\n",
              "    <tbody>\n",
              "        <tr>\n",
              "            <td>99716</td>\n",
              "            <td>Miranda Priestly</td>\n",
              "            <td>202298</td>\n",
              "            <td>1883</td>\n",
              "            <td>Golden Ave</td>\n",
              "            <td>987756388</td>\n",
              "            <td>99716</td>\n",
              "            <td>1143</td>\n",
              "            <td>SQL Symphony Concert</td>\n",
              "            <td>20171206</td>\n",
              "        </tr>\n",
              "        <tr>\n",
              "            <td>99716</td>\n",
              "            <td>Miranda Priestly</td>\n",
              "            <td>202298</td>\n",
              "            <td>1883</td>\n",
              "            <td>Golden Ave</td>\n",
              "            <td>987756388</td>\n",
              "            <td>99716</td>\n",
              "            <td>1143</td>\n",
              "            <td>SQL Symphony Concert</td>\n",
              "            <td>20171212</td>\n",
              "        </tr>\n",
              "        <tr>\n",
              "            <td>99716</td>\n",
              "            <td>Miranda Priestly</td>\n",
              "            <td>202298</td>\n",
              "            <td>1883</td>\n",
              "            <td>Golden Ave</td>\n",
              "            <td>987756388</td>\n",
              "            <td>99716</td>\n",
              "            <td>1143</td>\n",
              "            <td>SQL Symphony Concert</td>\n",
              "            <td>20171229</td>\n",
              "        </tr>\n",
              "    </tbody>\n",
              "</table>"
            ]
          },
          "metadata": {},
          "execution_count": 18
        }
      ]
    },
    {
      "cell_type": "code",
      "source": [
        "%%sql\n",
        "\n",
        "SELECT person_id,\n",
        "COUNT (*) as visits\n",
        "FROM facebook_event_checkin\n",
        "WHERE date BETWEEN 20171201 AND 20171231\n",
        "AND event_name=\"SQL Symphony Concert\"\n",
        "GROUP BY person_id\n",
        "HAVING COUNT (*)>=3"
      ],
      "metadata": {
        "colab": {
          "base_uri": "https://localhost:8080/",
          "height": 118
        },
        "id": "RpRpFEH27BrN",
        "outputId": "9fff6ee5-e726-49af-810d-f0089b632626"
      },
      "execution_count": 19,
      "outputs": [
        {
          "output_type": "stream",
          "name": "stdout",
          "text": [
            " * sqlite:///sql-murder-mystery.db\n",
            "Done.\n"
          ]
        },
        {
          "output_type": "execute_result",
          "data": {
            "text/plain": [
              "[(24556, 3), (99716, 3)]"
            ],
            "text/html": [
              "<table>\n",
              "    <thead>\n",
              "        <tr>\n",
              "            <th>person_id</th>\n",
              "            <th>visits</th>\n",
              "        </tr>\n",
              "    </thead>\n",
              "    <tbody>\n",
              "        <tr>\n",
              "            <td>24556</td>\n",
              "            <td>3</td>\n",
              "        </tr>\n",
              "        <tr>\n",
              "            <td>99716</td>\n",
              "            <td>3</td>\n",
              "        </tr>\n",
              "    </tbody>\n",
              "</table>"
            ]
          },
          "metadata": {},
          "execution_count": 19
        }
      ]
    },
    {
      "cell_type": "code",
      "source": [
        "%%sql\n",
        "\n",
        "WITH CTE AS (\n",
        "SELECT person_id,\n",
        "COUNT (*) as visits\n",
        "FROM facebook_event_checkin\n",
        "WHERE date BETWEEN 20171201 AND 20171231\n",
        "AND event_name=\"SQL Symphony Concert\"\n",
        "GROUP BY person_id\n",
        "HAVING COUNT (*)>=3\n",
        ")\n",
        "\n",
        "SELECT p.*, fb.*\n",
        "FROM drivers_license as dl\n",
        "INNER JOIN person as p on dl.id=p.license_id\n",
        "INNER JOIN CTE as fb on fb.person_id=p.id\n",
        "WHERE hair_color = \"red\"\n",
        "AND height >= 65\n",
        "AND height <= 67\n",
        "AND car_make LIKE \"%tesla%\"\n",
        "AND car_model LIKE \"Model S\"\n",
        "AND gender = \"female\"\n",
        "LIMIT 100"
      ],
      "metadata": {
        "colab": {
          "base_uri": "https://localhost:8080/",
          "height": 114
        },
        "id": "T3yInSHu7OKk",
        "outputId": "03bdc9f4-3906-4f33-ea7f-4e7ca9f7fb50"
      },
      "execution_count": 20,
      "outputs": [
        {
          "output_type": "stream",
          "name": "stdout",
          "text": [
            " * sqlite:///sql-murder-mystery.db\n",
            "Done.\n"
          ]
        },
        {
          "output_type": "execute_result",
          "data": {
            "text/plain": [
              "[(99716, 'Miranda Priestly', 202298, 1883, 'Golden Ave', '987756388', 99716, 3)]"
            ],
            "text/html": [
              "<table>\n",
              "    <thead>\n",
              "        <tr>\n",
              "            <th>id</th>\n",
              "            <th>name</th>\n",
              "            <th>license_id</th>\n",
              "            <th>address_number</th>\n",
              "            <th>address_street_name</th>\n",
              "            <th>ssn</th>\n",
              "            <th>person_id</th>\n",
              "            <th>visits</th>\n",
              "        </tr>\n",
              "    </thead>\n",
              "    <tbody>\n",
              "        <tr>\n",
              "            <td>99716</td>\n",
              "            <td>Miranda Priestly</td>\n",
              "            <td>202298</td>\n",
              "            <td>1883</td>\n",
              "            <td>Golden Ave</td>\n",
              "            <td>987756388</td>\n",
              "            <td>99716</td>\n",
              "            <td>3</td>\n",
              "        </tr>\n",
              "    </tbody>\n",
              "</table>"
            ]
          },
          "metadata": {},
          "execution_count": 20
        }
      ]
    },
    {
      "cell_type": "markdown",
      "source": [
        "## Miranda Priestly is the Mastermind!\n",
        "\n",
        "`INSERT INTO solution VALUES (1, 'Miranda Priestly');`\n",
        "\n",
        "`SELECT value FROM solution;`"
      ],
      "metadata": {
        "id": "HKOD5sD37Vp8"
      }
    },
    {
      "cell_type": "code",
      "source": [],
      "metadata": {
        "id": "dP7RuGcO7b-d"
      },
      "execution_count": null,
      "outputs": []
    }
  ]
}